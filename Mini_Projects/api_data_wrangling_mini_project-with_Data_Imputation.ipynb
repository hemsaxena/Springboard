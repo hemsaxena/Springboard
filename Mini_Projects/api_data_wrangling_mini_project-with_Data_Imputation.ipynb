{
 "cells": [
  {
   "cell_type": "markdown",
   "metadata": {},
   "source": [
    "This exercise will require you to pull some data from the Qunadl API. Qaundl is currently the most widely used aggregator of financial market data."
   ]
  },
  {
   "cell_type": "markdown",
   "metadata": {},
   "source": [
    "As a first step, you will need to register a free account on the http://www.quandl.com website."
   ]
  },
  {
   "cell_type": "markdown",
   "metadata": {},
   "source": [
    "After you register, you will be provided with a unique API key, that you should store:"
   ]
  },
  {
   "cell_type": "code",
   "execution_count": 1,
   "metadata": {},
   "outputs": [],
   "source": [
    "# Store the API key as a string - according to PEP8, constants are always named in all upper case\n",
    "API_KEY = 'DkWwRyzzR_syzjL3mUjA'"
   ]
  },
  {
   "cell_type": "markdown",
   "metadata": {},
   "source": [
    "Qaundl has a large number of data sources, but, unfortunately, most of them require a Premium subscription. Still, there are also a good number of free datasets."
   ]
  },
  {
   "cell_type": "markdown",
   "metadata": {},
   "source": [
    "For this mini project, we will focus on equities data from the Frankfurt Stock Exhange (FSE), which is available for free. We'll try and analyze the stock prices of a company called Carl Zeiss Meditec, which manufactures tools for eye examinations, as well as medical lasers for laser eye surgery: https://www.zeiss.com/meditec/int/home.html. The company is listed under the stock ticker AFX_X."
   ]
  },
  {
   "cell_type": "markdown",
   "metadata": {},
   "source": [
    "You can find the detailed Quandl API instructions here: https://docs.quandl.com/docs/time-series"
   ]
  },
  {
   "cell_type": "markdown",
   "metadata": {},
   "source": [
    "While there is a dedicated Python package for connecting to the Quandl API, we would prefer that you use the *requests* package, which can be easily downloaded using *pip* or *conda*. You can find the documentation for the package here: http://docs.python-requests.org/en/master/ "
   ]
  },
  {
   "cell_type": "markdown",
   "metadata": {},
   "source": [
    "Finally, apart from the *requests* package, you are encouraged to not use any third party Python packages, such as *pandas*, and instead focus on what's available in the Python Standard Library (the *collections* module might come in handy: https://pymotw.com/3/collections/ ).\n",
    "Also, since you won't have access to DataFrames, you are encouraged to us Python's native data structures - preferably dictionaries, though some questions can also be answered using lists.\n",
    "You can read more on these data structures here: https://docs.python.org/3/tutorial/datastructures.html"
   ]
  },
  {
   "cell_type": "markdown",
   "metadata": {},
   "source": [
    "Keep in mind that the JSON responses you will be getting from the API map almost one-to-one to Python's dictionaries. Unfortunately, they can be very nested, so make sure you read up on indexing dictionaries in the documentation provided above."
   ]
  },
  {
   "cell_type": "code",
   "execution_count": 2,
   "metadata": {},
   "outputs": [],
   "source": [
    "# First, import the relevant modules\n",
    "import requests\n",
    "import json"
   ]
  },
  {
   "cell_type": "code",
   "execution_count": 3,
   "metadata": {},
   "outputs": [
    {
     "name": "stdout",
     "output_type": "stream",
     "text": [
      "{\n",
      "  \"dataset\": {\n",
      "    \"id\": 10095370,\n",
      "    \"dataset_code\": \"AFX_X\",\n",
      "    \"database_code\": \"FSE\",\n",
      "    \"name\": \"Carl Zeiss Meditec (AFX_X)\",\n",
      "    \"description\": \"Stock Prices for Carl Zeiss Meditec (2020-05-15) from the Frankfurt Stock Exchange.<br><br>Trading System: Xetra<br><br>ISIN: DE0005313704\",\n",
      "    \"refreshed_at\": \"2020-05-29T22:16:21.973Z\",\n",
      "    \"newest_available_date\": \"2020-05-29\",\n",
      "    \"oldest_available_date\": \"2000-06-07\",\n",
      "    \"column_names\": [\n",
      "      \"Date\",\n",
      "      \"Open\",\n",
      "      \"High\",\n",
      "      \"Low\",\n",
      "      \"Close\",\n",
      "      \"Change\",\n",
      "      \"Traded Volume\",\n",
      "      \"Turnover\",\n",
      "      \"Last Price of the Day\",\n",
      "      \"Daily Traded Units\",\n",
      "      \"Daily Turnover\"\n",
      "    ],\n",
      "    \"frequency\": \"daily\",\n",
      "    \"type\": \"Time Series\",\n",
      "    \"premium\": false,\n",
      "    \"limit\": 1,\n",
      "    \"transform\": null,\n",
      "    \"column_index\": null,\n",
      "    \"start_date\": \"2000-06-07\",\n",
      "    \"end_date\": \"2020-05-29\",\n",
      "    \"data\": [\n",
      "      [\n",
      "        \"2020-05-29\",\n",
      "        91.05,\n",
      "        93.1,\n",
      "        90.25,\n",
      "        92.1,\n",
      "        null,\n",
      "        238162.0,\n",
      "        21887648.1,\n",
      "        null,\n",
      "        null,\n",
      "        null\n",
      "      ]\n",
      "    ],\n",
      "    \"collapse\": null,\n",
      "    \"order\": null,\n",
      "    \"database_id\": 6129\n",
      "  }\n",
      "}\n"
     ]
    }
   ],
   "source": [
    "# Calling the Quandl API and pull out a small sample of the data (only one day) to get a glimpse\n",
    "# into the JSON structure that will be returned\n",
    "url = \"https://www.quandl.com/api/v3/datasets/FSE/AFX_X.json\"\n",
    "\n",
    "#Setting parameters of url for the request \n",
    "param = {'api_key':API_KEY,'limit':1}\n",
    "\n",
    "#Sending get request with the api url and parameters\n",
    "res = requests.get(url, params=param)\n",
    "\n",
    "#Stroing object in dictionary: row_dict\n",
    "row_dict = res.json()\n",
    "\n",
    "#print(row_dict)\n",
    "data = json.loads(res.text)\n",
    "print(json.dumps(data, indent=2))"
   ]
  },
  {
   "cell_type": "code",
   "execution_count": 4,
   "metadata": {},
   "outputs": [
    {
     "name": "stdout",
     "output_type": "stream",
     "text": [
      "{dataset: ,\n",
      "\t{id: ,\n",
      "dataset_code: ,\n",
      "database_code: ,\n",
      "name: ,\n",
      "description: ,\n",
      "refreshed_at: ,\n",
      "newest_available_date: ,\n",
      "oldest_available_date: ,\n",
      "column_names: ,\n",
      "frequency: ,\n",
      "type: ,\n",
      "premium: ,\n",
      "limit: ,\n",
      "transform: ,\n",
      "column_index: ,\n",
      "start_date: ,\n",
      "end_date: ,\n",
      "data: ,\n",
      "collapse: ,\n",
      "order: ,\n",
      "database_id: ,\n",
      "}\n",
      "}\n"
     ]
    }
   ],
   "source": [
    "# Inspecting the JSON structure of the object created, and taking note of all nested dictionaries\n",
    "\n",
    "#function to find nested dictionaries\n",
    "def findKeys(temp_dict,dstring):\n",
    "    keys_n = temp_dict.keys()\n",
    "    if(len(keys_n)>0):\n",
    "        dstring+='{' \n",
    "        for key in keys_n:\n",
    "            dstring += key + ': ,\\n'\n",
    "            #print(key)\n",
    "            if isinstance(temp_dict[key], dict):     \n",
    "                temp_dict = temp_dict[key]\n",
    "                dstring+='\\t'+findKeys(temp_dict,'') + '\\n'\n",
    "        dstring+='}'\n",
    "    return(dstring)\n",
    "\n",
    "#checking for nested dictionaries in the JSON dictionary object recieved\n",
    "keys = row_dict.keys()\n",
    "dict_string = findKeys(row_dict, '')\n",
    "print(dict_string)"
   ]
  },
  {
   "cell_type": "code",
   "execution_count": 5,
   "metadata": {},
   "outputs": [
    {
     "name": "stdout",
     "output_type": "stream",
     "text": [
      "<class 'list'>\n",
      "<class 'list'>\n"
     ]
    }
   ],
   "source": [
    "#Inspecting the type of column_names and data in JSON to check for consistency\n",
    "\n",
    "#checking the type of values in dictionary columns_names\n",
    "print(type(row_dict['dataset']['column_names']))\n",
    "\n",
    "#checking the type of values in dictionary data which has the data for these columns\n",
    "print(type(row_dict['dataset']['data']))"
   ]
  },
  {
   "cell_type": "code",
   "execution_count": 6,
   "metadata": {},
   "outputs": [
    {
     "name": "stdout",
     "output_type": "stream",
     "text": [
      "[{0, 'Date'}, {'Open', 1}, {2, 'High'}, {'Low', 3}, {4, 'Close'}, {'Change', 5}, {'Traded Volume', 6}, {'Turnover', 7}, {'Last Price of the Day', 8}, {'Daily Traded Units', 9}, {10, 'Daily Turnover'}]\n"
     ]
    }
   ],
   "source": [
    "#printing the list of columns names and their indexes for further data analysis\n",
    "\n",
    "lst= row_dict['dataset']['column_names']\n",
    "\n",
    "print([{x,lst.index(x)} for x in lst])"
   ]
  },
  {
   "cell_type": "markdown",
   "metadata": {},
   "source": [
    "These are your tasks for this mini project:\n",
    "\n",
    "1. Collect data from the Franfurt Stock Exchange, for the ticker AFX_X, for the whole year 2017 (keep in mind that the date format is YYYY-MM-DD).\n",
    "2. Convert the returned JSON object into a Python dictionary.\n",
    "3. Calculate what the highest and lowest opening prices were for the stock in this period.\n",
    "4. What was the largest change in any one day (based on High and Low price)?\n",
    "5. What was the largest change between any two days (based on Closing Price)?\n",
    "6. What was the average daily trading volume during this year?\n",
    "7. (Optional) What was the median trading volume during this year. (Note: you may need to implement your own function for calculating the median.)"
   ]
  },
  {
   "cell_type": "code",
   "execution_count": 7,
   "metadata": {},
   "outputs": [
    {
     "name": "stdout",
     "output_type": "stream",
     "text": [
      "200\n"
     ]
    }
   ],
   "source": [
    "#1. Collect data from the Franfurt Stock Exchange, for the ticker AFX_X, for the whole year 2017\n",
    "\n",
    "#Adding date range for whole year 2017\n",
    "param.update({'start_date':'2017-01-01','end_date':'2017-12-31'})\n",
    "\n",
    "#Deleting the 'limit' parameter\n",
    "del param['limit']\n",
    "\n",
    "#Requesting data using the API get request\n",
    "res = requests.get(url, params=param)\n",
    "\n",
    "#checking the status of response\n",
    "print(res.status_code)"
   ]
  },
  {
   "cell_type": "code",
   "execution_count": 8,
   "metadata": {},
   "outputs": [],
   "source": [
    "#2. Converting the JSON object into a Python dictionary: fse_data\n",
    "fse_dict = res.json()"
   ]
  },
  {
   "cell_type": "code",
   "execution_count": 9,
   "metadata": {},
   "outputs": [
    {
     "name": "stdout",
     "output_type": "stream",
     "text": [
      "Data has None values: True\n"
     ]
    }
   ],
   "source": [
    "#extracting the list of values from nested dictionary 'data' in dictionary 'dataset'\n",
    "d_list = fse_dict['dataset']['data']\n",
    "\n",
    "#Checking if there are None values in the nested list inside the data_list\n",
    "validation = any(None in sl for sl in d_list)\n",
    "print(\"Data has None values: \"+ str(validation))"
   ]
  },
  {
   "cell_type": "markdown",
   "metadata": {},
   "source": [
    "DATA IMPUTATION CAN BE DONE CONVENIENTLY USING PANDAS DATAFRAME, SO I HAVE CHOSEN TO CONVERT DATASET INTO A DATAFRAME, HOWEVER AFTER IMPUTATION I WILL CONVERT THE DATA BACK TO LIST TO PERFORM THE REMAINING STEPS"
   ]
  },
  {
   "cell_type": "code",
   "execution_count": 10,
   "metadata": {},
   "outputs": [
    {
     "name": "stdout",
     "output_type": "stream",
     "text": [
      "(255, 11)\n"
     ]
    }
   ],
   "source": [
    "# Usig pandas Dataframe for Imputing Data -- I will be filling the None values in stock prices data with values from the previous days\n",
    "import pandas as pd\n",
    "\n",
    "df = pd.DataFrame(d_list,columns=['Date', 'Open', 'High', 'Low', 'Close', 'Change', 'Traded Volume', 'Turnover', 'Last Price of the Day', 'Daily Traded Units', 'Daily Turnover'])\n",
    "print(df.shape)"
   ]
  },
  {
   "cell_type": "code",
   "execution_count": 11,
   "metadata": {},
   "outputs": [
    {
     "name": "stdout",
     "output_type": "stream",
     "text": [
      "<class 'pandas.core.frame.DataFrame'>\n",
      "RangeIndex: 255 entries, 0 to 254\n",
      "Data columns (total 11 columns):\n",
      " #   Column                 Non-Null Count  Dtype  \n",
      "---  ------                 --------------  -----  \n",
      " 0   Date                   255 non-null    object \n",
      " 1   Open                   252 non-null    float64\n",
      " 2   High                   255 non-null    float64\n",
      " 3   Low                    255 non-null    float64\n",
      " 4   Close                  255 non-null    float64\n",
      " 5   Change                 1 non-null      float64\n",
      " 6   Traded Volume          255 non-null    float64\n",
      " 7   Turnover               255 non-null    float64\n",
      " 8   Last Price of the Day  0 non-null      object \n",
      " 9   Daily Traded Units     0 non-null      object \n",
      " 10  Daily Turnover         0 non-null      object \n",
      "dtypes: float64(7), object(4)\n",
      "memory usage: 22.0+ KB\n"
     ]
    }
   ],
   "source": [
    "df.info()"
   ]
  },
  {
   "cell_type": "code",
   "execution_count": 12,
   "metadata": {
    "scrolled": true
   },
   "outputs": [
    {
     "name": "stdout",
     "output_type": "stream",
     "text": [
      "<class 'pandas.core.frame.DataFrame'>\n",
      "RangeIndex: 255 entries, 0 to 254\n",
      "Data columns (total 11 columns):\n",
      " #   Column                 Non-Null Count  Dtype  \n",
      "---  ------                 --------------  -----  \n",
      " 0   Date                   255 non-null    object \n",
      " 1   Open                   255 non-null    float64\n",
      " 2   High                   255 non-null    float64\n",
      " 3   Low                    255 non-null    float64\n",
      " 4   Close                  255 non-null    float64\n",
      " 5   Change                 255 non-null    float64\n",
      " 6   Traded Volume          255 non-null    float64\n",
      " 7   Turnover               255 non-null    float64\n",
      " 8   Last Price of the Day  0 non-null      object \n",
      " 9   Daily Traded Units     0 non-null      object \n",
      " 10  Daily Turnover         0 non-null      object \n",
      "dtypes: float64(7), object(4)\n",
      "memory usage: 22.0+ KB\n"
     ]
    }
   ],
   "source": [
    "#Imputing only those columns that will be required for further analysis\n",
    "#1) forward filling 'Open' column, 2) filling 'Change' column with difference between 'High' and 'Low' Column values  \n",
    "df['Open'].fillna(method='ffill',inplace=True)\n",
    "df['Change'].fillna(abs(df['High']-df['Low']),inplace=True)\n",
    "df.info()"
   ]
  },
  {
   "cell_type": "code",
   "execution_count": 13,
   "metadata": {},
   "outputs": [
    {
     "name": "stdout",
     "output_type": "stream",
     "text": [
      "Empty DataFrame\n",
      "Columns: [Date, Open, High, Low, Close, Change, Traded Volume, Turnover, Last Price of the Day, Daily Traded Units, Daily Turnover]\n",
      "Index: []\n"
     ]
    }
   ],
   "source": [
    "#Checking for duplicate data \n",
    "duplicateRowsDF = df[df.duplicated()]\n",
    "print(duplicateRowsDF)"
   ]
  },
  {
   "cell_type": "markdown",
   "metadata": {},
   "source": [
    "There are no duplicate rows found in the dataframe so nothing needs to be done for duplicates."
   ]
  },
  {
   "cell_type": "code",
   "execution_count": 14,
   "metadata": {},
   "outputs": [],
   "source": [
    "#converting dataframe back to list for further steps\n",
    "data_list = df.values.tolist()"
   ]
  },
  {
   "cell_type": "code",
   "execution_count": 15,
   "metadata": {},
   "outputs": [
    {
     "name": "stdout",
     "output_type": "stream",
     "text": [
      "Higest opening prices during the year 2017: $53.11\n",
      "Lowest opening prices during the year 2017: $34.0\n"
     ]
    }
   ],
   "source": [
    "#3. Calculating the highest and lowest opening prices were for the stock in this period. \n",
    "#  'Open' prices is the 2nd item in the list of columns values and therefore the 2nd list item in the data_list as well \n",
    "\n",
    "#initializing highest open price as 0: max_open\n",
    "max_open=0\n",
    "\n",
    "#initializing lowest open price as the first value in the list: min_open\n",
    "min_open=data_list[0][1]\n",
    "\n",
    "#finding maximum and minimum open price from the list of lists\n",
    "for lst in data_list:\n",
    "    max_open = max(max_open,lst[1])\n",
    "    min_open = min(min_open,lst[1])\n",
    "\n",
    "#priting the maximum and minimum open price\n",
    "print(\"Higest opening prices during the year 2017: $\" + str(max_open))\n",
    "print(\"Lowest opening prices during the year 2017: $\" + str(min_open))"
   ]
  },
  {
   "cell_type": "code",
   "execution_count": 16,
   "metadata": {},
   "outputs": [
    {
     "name": "stdout",
     "output_type": "stream",
     "text": [
      "Largest change in any one day during 2017: $2.8100000000000023\n"
     ]
    }
   ],
   "source": [
    "#4. Calculating the largest change in any one day (based on High and Low price)\n",
    "\n",
    "#initializing largest_change variable\n",
    "largest_change=abs(data_list[0][2]-data_list[0][3])\n",
    "\n",
    "#finding largest change in any one day\n",
    "for lst in data_list:\n",
    "    largest_change = max(largest_change,abs(lst[2]-lst[3]))\n",
    "    \n",
    "#printing the largest change in any one day\n",
    "print(\"Largest change in any one day during 2017: $\" +str(largest_change))"
   ]
  },
  {
   "cell_type": "code",
   "execution_count": 17,
   "metadata": {},
   "outputs": [
    {
     "name": "stdout",
     "output_type": "stream",
     "text": [
      "Largest change in any two days based on Closing Price during 2017: $19.11\n"
     ]
    }
   ],
   "source": [
    "#5. Calculating the largest change between any two days (based on Closing Price)?\n",
    "\n",
    "max_close=data_list[0][4]\n",
    "min_close=data_list[0][4]\n",
    "\n",
    "#finding maximum and minimum closing price from the list of lists\n",
    "for lst in data_list:\n",
    "    max_close = max(max_open,lst[4])\n",
    "    min_close = min(min_open,lst[4])\n",
    "        \n",
    "#finding the difference between largest and smallest closing prices\n",
    "max_close_diff = max_close-min_close\n",
    "\n",
    "#printing the maximum closing price difference\n",
    "print(\"Largest change in any two days based on Closing Price during 2017: $\" + str(max_close_diff))"
   ]
  },
  {
   "cell_type": "code",
   "execution_count": 18,
   "metadata": {},
   "outputs": [
    {
     "name": "stdout",
     "output_type": "stream",
     "text": [
      "Average daily trading volume during 2017: $89124.33725490196\n"
     ]
    }
   ],
   "source": [
    "#6. Calculating the average daily trading volume during this year?\n",
    "\n",
    "#initializing variable for total colume recored during 2017: total_vol\n",
    "total_vol=0\n",
    "\n",
    "#initializing count of days recorded during 2017: day_count\n",
    "day_count=len(data_list)\n",
    "\n",
    "#finding total volume during the year\n",
    "for lst in data_list:\n",
    "    total_vol += lst[6]\n",
    "\n",
    "#finding average volume: avg_vol\n",
    "avg_vol = total_vol/day_count   \n",
    "\n",
    "#printing the average volume\n",
    "print(\"Average daily trading volume during 2017: $\" + str(avg_vol))"
   ]
  },
  {
   "cell_type": "code",
   "execution_count": 19,
   "metadata": {},
   "outputs": [
    {
     "name": "stdout",
     "output_type": "stream",
     "text": [
      "The median trading volume during this year is: $76286.0\n"
     ]
    }
   ],
   "source": [
    "#Calculating the median trading volume during this year. (Note: you may need to implement your own function for calculating the median.)\n",
    "\n",
    "#Making an empty list of trading volume during this year: list_vol\n",
    "list_vol=[]\n",
    "\n",
    "#Inserting trading volumes by each day during the year 2017\n",
    "for lst in data_list:\n",
    "    list_vol.append(lst[6])\n",
    "\n",
    "#function to calculate the median of a list of trading volumes\n",
    "def calculate_median(lst):\n",
    "    l = sorted(lst)\n",
    "    l_len = len(lst)\n",
    "    if l_len < 1:\n",
    "        return None\n",
    "    if l_len % 2 == 0 :\n",
    "        return (round( l[round((l_len-1)/2)] + l[round((l_len+1)/2)] ) / 2.0)\n",
    "    else:\n",
    "        return l[round((l_len-1)/2)]\n",
    "\n",
    "#printing the median trading volume this year\n",
    "print(\"The median trading volume during this year is: $\"+ str(calculate_median(list_vol)))"
   ]
  }
 ],
 "metadata": {
  "celltoolbar": "Raw Cell Format",
  "kernelspec": {
   "display_name": "Python 3",
   "language": "python",
   "name": "python3"
  },
  "language_info": {
   "codemirror_mode": {
    "name": "ipython",
    "version": 3
   },
   "file_extension": ".py",
   "mimetype": "text/x-python",
   "name": "python",
   "nbconvert_exporter": "python",
   "pygments_lexer": "ipython3",
   "version": "3.7.6"
  }
 },
 "nbformat": 4,
 "nbformat_minor": 2
}
