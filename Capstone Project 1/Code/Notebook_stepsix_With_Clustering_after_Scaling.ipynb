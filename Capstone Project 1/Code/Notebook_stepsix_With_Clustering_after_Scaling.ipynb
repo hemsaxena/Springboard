{
 "cells": [
  {
   "cell_type": "markdown",
   "metadata": {
    "colab_type": "text",
    "id": "cf5CmXQCZyF1"
   },
   "source": [
    "# Guided Capstone Step 6. Documentation"
   ]
  },
  {
   "cell_type": "markdown",
   "metadata": {
    "colab_type": "text",
    "id": "JbZXsVevfr9M"
   },
   "source": [
    "**The Data Science Method**  \n",
    "\n",
    "\n",
    "1.   Problem Identification \n",
    "\n",
    "2.   Data Wrangling \n",
    "  \n",
    "3.   Exploratory Data Analysis \n",
    " \n",
    "4.   Pre-processing and Training Data Development\n",
    "\n",
    "5.  Modeling\n",
    "\n",
    "6.   **Documentation**\n",
    "  * Review the Results\n",
    "  * Finalize Code \n",
    "  * Finalize Documentation\n",
    "  * Create a Project Report \n",
    "  * Create a Slide Deck for the Executive Audience"
   ]
  },
  {
   "cell_type": "markdown",
   "metadata": {
    "colab_type": "text",
    "id": "D-oGciwnGUYk"
   },
   "source": [
    "In this guided capstone we are going to revisit many of the actions we took in the previous guided capstone steps. This gives you the opportunity to practice the code you wrote to solve the questions in step 4 and 5. "
   ]
  },
  {
   "cell_type": "markdown",
   "metadata": {
    "colab_type": "text",
    "id": "K8xfkAqqZyF2"
   },
   "source": [
    "**<font color='teal'> Start by loading the necessary packages and printing out our current working directory just to confirm we are in the correct project directory. </font>**"
   ]
  },
  {
   "cell_type": "code",
   "execution_count": 480,
   "metadata": {
    "colab": {},
    "colab_type": "code",
    "id": "ry6WPL5eZyF3"
   },
   "outputs": [],
   "source": [
    "#load python packages\n",
    "import os\n",
    "import pandas as pd\n",
    "import datetime\n",
    "import seaborn as sns\n",
    "import matplotlib.pyplot as plt\n",
    "import numpy as np\n",
    "%matplotlib inline\n",
    "from sklearn import preprocessing\n",
    "from sklearn.model_selection import train_test_split\n",
    "from sklearn.metrics import mean_absolute_error, explained_variance_score\n",
    "from sklearn import linear_model\n",
    "from sklearn.metrics import explained_variance_score,mean_absolute_error\n",
    "\n",
    "os.getcwd()\n",
    "\n",
    "path=\"C:/MY FOLDER/SpringBoard/Case Studies/Blue Mountain Resort\"\n",
    "os.chdir(path)"
   ]
  },
  {
   "cell_type": "code",
   "execution_count": 481,
   "metadata": {},
   "outputs": [],
   "source": [
    "df = pd.read_csv(\"step3_output.csv\")"
   ]
  },
  {
   "cell_type": "markdown",
   "metadata": {
    "colab_type": "text",
    "id": "0HTP9cF2GUYs"
   },
   "source": [
    "## Fit Models with Training Dataset"
   ]
  },
  {
   "cell_type": "markdown",
   "metadata": {
    "colab_type": "text",
    "id": "A2FmSbtCGUYt"
   },
   "source": [
    "**<font color='teal'> Using sklearn fit the model you chose in Guided Capstone 5 on your training dataset. This includes: creating dummy features for states if you need them, scaling the data,and creating train and test splits before fitting the chosen model.Also, remember to generate a model performance score(MAE, or explained variance) based on the testing hold-out data set.</font>**"
   ]
  },
  {
   "cell_type": "markdown",
   "metadata": {
    "colab_type": "text",
    "id": "ReRSy1yFGUYu"
   },
   "source": [
    "#### Best Model "
   ]
  },
  {
   "cell_type": "code",
   "execution_count": 482,
   "metadata": {},
   "outputs": [],
   "source": [
    "#Remove response variables and other non-actionable and highly correlated features\n",
    "X = df.drop(['Name','AdultWeekend','AdultWeekday','daysOpenLastYear','projectedDaysOpen','state','summit_elev','base_elev'], axis=1)\n",
    "\n",
    "# Declare a response variable, called y, and assign it the AdultWeekend column of the df \n",
    "Y = df.loc[:,'AdultWeekend']"
   ]
  },
  {
   "cell_type": "code",
   "execution_count": 483,
   "metadata": {},
   "outputs": [],
   "source": [
    "#Preprocessing - Scaling\n",
    "scaler = preprocessing.StandardScaler().fit(X)\n",
    "X_scaled=scaler.transform(X) \n",
    "scaled_df = pd.DataFrame(X_scaled,columns=X.columns)\n",
    "y = Y.ravel()"
   ]
  },
  {
   "cell_type": "code",
   "execution_count": 484,
   "metadata": {
    "colab": {},
    "colab_type": "code",
    "id": "YRhPGbqPGUYv"
   },
   "outputs": [
    {
     "name": "stdout",
     "output_type": "stream",
     "text": [
      "                                  Name    state  summit_elev  vertical_drop  \\\n",
      "0                       Alyeska Resort   Alaska         3939           2500   \n",
      "1                  Eaglecrest Ski Area   Alaska         2600           1540   \n",
      "2                     Hilltop Ski Area   Alaska         2090            294   \n",
      "3                     Arizona Snowbowl  Arizona        11500           2300   \n",
      "4                  Sunrise Park Resort  Arizona        11100           1800   \n",
      "..                                 ...      ...          ...            ...   \n",
      "325               Meadowlark Ski Lodge  Wyoming         9500           1000   \n",
      "326          Sleeping Giant Ski Resort  Wyoming         7428            810   \n",
      "327                   Snow King Resort  Wyoming         7808           1571   \n",
      "328  Snowy Range Ski & Recreation Area  Wyoming         9663            990   \n",
      "329                White Pine Ski Area  Wyoming         9500           1100   \n",
      "\n",
      "     base_elev  trams  fastEight  fastSixes  fastQuads  quad  ...  \\\n",
      "0          250      1        0.0          0          2     2  ...   \n",
      "1         1200      0        0.0          0          0     0  ...   \n",
      "2         1796      0        0.0          0          0     0  ...   \n",
      "3         9200      0        0.0          1          0     2  ...   \n",
      "4         9200      0        0.0          0          1     2  ...   \n",
      "..         ...    ...        ...        ...        ...   ...  ...   \n",
      "325       8500      0        0.0          0          0     0  ...   \n",
      "326       6619      0        0.0          0          0     0  ...   \n",
      "327       6237      0        0.0          0          0     1  ...   \n",
      "328       8798      0        0.0          0          0     0  ...   \n",
      "329       8400      0        0.0          0          0     0  ...   \n",
      "\n",
      "     Snow Making_ac  daysOpenLastYear  yearsOpen  averageSnowfall  \\\n",
      "0        113.000000        150.000000       60.0       669.000000   \n",
      "1         60.000000         45.000000       44.0       350.000000   \n",
      "2         30.000000        150.000000       36.0        69.000000   \n",
      "3        104.000000        122.000000       81.0       260.000000   \n",
      "4         80.000000        115.000000       49.0       250.000000   \n",
      "..              ...               ...        ...              ...   \n",
      "325      174.873239        115.103943        9.0       185.316456   \n",
      "326       18.000000         61.000000       81.0       310.000000   \n",
      "327      250.000000        121.000000       80.0       300.000000   \n",
      "328       30.000000        131.000000       59.0       250.000000   \n",
      "329      174.873239        115.103943       81.0       150.000000   \n",
      "\n",
      "     AdultWeekday  AdultWeekend  projectedDaysOpen  NightSkiing_ac  clusters  \\\n",
      "0       65.000000      85.00000         150.000000           550.0         1   \n",
      "1       47.000000      53.00000          90.000000             0.0         1   \n",
      "2       30.000000      34.00000         152.000000            30.0         1   \n",
      "3       89.000000      89.00000         122.000000             0.0         0   \n",
      "4       74.000000      78.00000         104.000000            80.0         0   \n",
      "..            ...           ...                ...             ...       ...   \n",
      "325     57.916957      64.16681         120.053004             0.0         0   \n",
      "326     42.000000      42.00000          77.000000             0.0         2   \n",
      "327     59.000000      59.00000         123.000000           110.0         2   \n",
      "328     49.000000      49.00000         120.053004             0.0         0   \n",
      "329     57.916957      49.00000         120.053004             0.0         0   \n",
      "\n",
      "     Clusters  \n",
      "0           1  \n",
      "1           0  \n",
      "2           0  \n",
      "3           1  \n",
      "4           1  \n",
      "..        ...  \n",
      "325         0  \n",
      "326         0  \n",
      "327         0  \n",
      "328         0  \n",
      "329         0  \n",
      "\n",
      "[330 rows x 28 columns]\n"
     ]
    }
   ],
   "source": [
    "#Added clusters after scaling removing the clusters formed in Step3 from the step3_output.csv\n",
    "\n",
    "from sklearn.cluster import KMeans\n",
    "\n",
    "# This code will fit the k-means algorithm with our k parameter set to three, and plot the results. Cool, huh? \n",
    "kmeans3 = KMeans(n_clusters=3)\n",
    "y_kmeans3 = kmeans3.fit(scaled_df)\n",
    "identified_clusters = y_kmeans3.predict(scaled_df)\n",
    "df['Clusters'] = identified_clusters\n",
    "\n",
    "X_train, X_test, y_train, y_test = train_test_split(X_scaled , y, test_size=0.25, random_state=1)"
   ]
  },
  {
   "cell_type": "code",
   "execution_count": 464,
   "metadata": {},
   "outputs": [
    {
     "data": {
      "text/html": [
       "<div>\n",
       "<style scoped>\n",
       "    .dataframe tbody tr th:only-of-type {\n",
       "        vertical-align: middle;\n",
       "    }\n",
       "\n",
       "    .dataframe tbody tr th {\n",
       "        vertical-align: top;\n",
       "    }\n",
       "\n",
       "    .dataframe thead th {\n",
       "        text-align: right;\n",
       "    }\n",
       "</style>\n",
       "<table border=\"1\" class=\"dataframe\">\n",
       "  <thead>\n",
       "    <tr style=\"text-align: right;\">\n",
       "      <th></th>\n",
       "      <th>Coefficient</th>\n",
       "    </tr>\n",
       "  </thead>\n",
       "  <tbody>\n",
       "    <tr>\n",
       "      <th>vertical_drop</th>\n",
       "      <td>9.183463</td>\n",
       "    </tr>\n",
       "    <tr>\n",
       "      <th>Snow Making_ac</th>\n",
       "      <td>5.204206</td>\n",
       "    </tr>\n",
       "    <tr>\n",
       "      <th>clusters</th>\n",
       "      <td>4.365013</td>\n",
       "    </tr>\n",
       "    <tr>\n",
       "      <th>quad</th>\n",
       "      <td>4.306101</td>\n",
       "    </tr>\n",
       "    <tr>\n",
       "      <th>triple</th>\n",
       "      <td>3.551923</td>\n",
       "    </tr>\n",
       "    <tr>\n",
       "      <th>trams</th>\n",
       "      <td>3.399336</td>\n",
       "    </tr>\n",
       "    <tr>\n",
       "      <th>fastQuads</th>\n",
       "      <td>2.786451</td>\n",
       "    </tr>\n",
       "    <tr>\n",
       "      <th>surface</th>\n",
       "      <td>2.479518</td>\n",
       "    </tr>\n",
       "    <tr>\n",
       "      <th>Runs</th>\n",
       "      <td>2.404943</td>\n",
       "    </tr>\n",
       "    <tr>\n",
       "      <th>fastEight</th>\n",
       "      <td>2.198408</td>\n",
       "    </tr>\n",
       "    <tr>\n",
       "      <th>total_chairs</th>\n",
       "      <td>2.039448</td>\n",
       "    </tr>\n",
       "    <tr>\n",
       "      <th>SkiableTerrain_ac</th>\n",
       "      <td>1.503112</td>\n",
       "    </tr>\n",
       "    <tr>\n",
       "      <th>TerrainParks</th>\n",
       "      <td>1.307801</td>\n",
       "    </tr>\n",
       "    <tr>\n",
       "      <th>double</th>\n",
       "      <td>1.148744</td>\n",
       "    </tr>\n",
       "    <tr>\n",
       "      <th>fastSixes</th>\n",
       "      <td>1.004532</td>\n",
       "    </tr>\n",
       "    <tr>\n",
       "      <th>averageSnowfall</th>\n",
       "      <td>0.901322</td>\n",
       "    </tr>\n",
       "    <tr>\n",
       "      <th>yearsOpen</th>\n",
       "      <td>0.857067</td>\n",
       "    </tr>\n",
       "    <tr>\n",
       "      <th>LongestRun_mi</th>\n",
       "      <td>0.300765</td>\n",
       "    </tr>\n",
       "    <tr>\n",
       "      <th>NightSkiing_ac</th>\n",
       "      <td>0.067389</td>\n",
       "    </tr>\n",
       "  </tbody>\n",
       "</table>\n",
       "</div>"
      ],
      "text/plain": [
       "                   Coefficient\n",
       "vertical_drop         9.183463\n",
       "Snow Making_ac        5.204206\n",
       "clusters              4.365013\n",
       "quad                  4.306101\n",
       "triple                3.551923\n",
       "trams                 3.399336\n",
       "fastQuads             2.786451\n",
       "surface               2.479518\n",
       "Runs                  2.404943\n",
       "fastEight             2.198408\n",
       "total_chairs          2.039448\n",
       "SkiableTerrain_ac     1.503112\n",
       "TerrainParks          1.307801\n",
       "double                1.148744\n",
       "fastSixes             1.004532\n",
       "averageSnowfall       0.901322\n",
       "yearsOpen             0.857067\n",
       "LongestRun_mi         0.300765\n",
       "NightSkiing_ac        0.067389"
      ]
     },
     "execution_count": 464,
     "metadata": {},
     "output_type": "execute_result"
    }
   ],
   "source": [
    "#Applying the model\n",
    "\n",
    "lm = linear_model.LinearRegression()\n",
    "model = lm.fit(X_train,y_train)\n",
    "y_pred = model.predict(X_test)\n",
    "evs3 = explained_variance_score(y_test, y_pred)\n",
    "mae3 = mean_absolute_error(y_test, y_pred)\n",
    "lm.intercept_\n",
    "df_model = pd.DataFrame(abs(lm.coef_), X.columns, columns=['Coefficient']).sort_values(by='Coefficient', ascending=False)\n",
    "df_model"
   ]
  },
  {
   "cell_type": "markdown",
   "metadata": {
    "colab_type": "text",
    "id": "GGizyeLZGUYz"
   },
   "source": [
    "## Review the results "
   ]
  },
  {
   "cell_type": "markdown",
   "metadata": {
    "colab_type": "text",
    "id": "4Lhu-qisGUY0"
   },
   "source": [
    "**<font color='teal'> Now, let's predict the Big Mountain Weekend price with our model in order to provide a recommendation to our managers on how to price the `AdultWeekend` lift ticket. First we need to find the row for Big Mountain resort in our data using string contains or string matching.</font>**"
   ]
  },
  {
   "cell_type": "code",
   "execution_count": 465,
   "metadata": {
    "colab": {},
    "colab_type": "code",
    "id": "YXnx_IuEGUY1",
    "scrolled": true
   },
   "outputs": [],
   "source": [
    "idx = df[df['Name'].str.contains('Big Mountain')].index\n",
    "df_BigMountain = df[df['Name'].str.contains('Big Mountain')]"
   ]
  },
  {
   "cell_type": "markdown",
   "metadata": {
    "colab_type": "text",
    "id": "83-jO9hPGUY4"
   },
   "source": [
    "**<font color='teal'> Prepare the Big Mountain resort data row as you did in the model fitting stage.</font>**"
   ]
  },
  {
   "cell_type": "code",
   "execution_count": 466,
   "metadata": {},
   "outputs": [],
   "source": [
    "y_actual = df[df['Name'].str.contains('Big Mountain')]['AdultWeekend']"
   ]
  },
  {
   "cell_type": "markdown",
   "metadata": {
    "colab_type": "text",
    "id": "2BCFqZYBGUY9"
   },
   "source": [
    "**<font color='teal'> Predict the Big Mountain resort `Adult Weekend` price and print it out.</font>** This is our expected price to present to management. Based on our model given the characteristics of the resort in comparison to other ski resorts and their unique characteristics."
   ]
  },
  {
   "cell_type": "code",
   "execution_count": 467,
   "metadata": {},
   "outputs": [],
   "source": [
    "y_pred_BigMountain = model.predict(X_scaled[idx])"
   ]
  },
  {
   "cell_type": "markdown",
   "metadata": {
    "colab_type": "text",
    "id": "_5BvguMLGUZB"
   },
   "source": [
    "**<font color='teal'> Print the Big Mountain resort actual `Adult Weekend` price.</font>**"
   ]
  },
  {
   "cell_type": "code",
   "execution_count": 468,
   "metadata": {
    "colab": {},
    "colab_type": "code",
    "id": "WyxTHtL2GUZC"
   },
   "outputs": [
    {
     "name": "stdout",
     "output_type": "stream",
     "text": [
      "Big Mountain Actual Price: $81.0\n",
      "Big Mountain Predicted Price: $91.76633310994336\n"
     ]
    }
   ],
   "source": [
    "print(\"Big Mountain Actual Price: $\" + str(float(y_actual.values)))\n",
    "print(\"Big Mountain Predicted Price: $\" + str(y_pred_BigMountain[0]))"
   ]
  },
  {
   "cell_type": "markdown",
   "metadata": {
    "colab_type": "text",
    "id": "O0Yli8MXGUZH"
   },
   "source": [
    "**<font color='teal'> As part of reviewing the results it is an important step to generate figures to visualize the data story. We can use the clusters we added to our data frame to create scatter plots for visualizing the Adult Weekend values compared to other characteristics. Run the example below to get you started and build two or three more figures to include in your data story telling.</font>**"
   ]
  },
  {
   "cell_type": "code",
   "execution_count": 490,
   "metadata": {
    "colab": {},
    "colab_type": "code",
    "id": "xWtr873fGUZI"
   },
   "outputs": [
    {
     "data": {
      "image/png": "[encoded data removed]",
      "text/plain": [
       "<Figure size 432x288 with 1 Axes>"
      ]
     },
     "metadata": {
      "needs_background": "light"
     },
     "output_type": "display_data"
    }
   ],
   "source": [
    "plt.scatter(df['vertical_drop'], df['AdultWeekend'], c=df['Clusters'], s=50, cmap='viridis', label ='clusters')\n",
    "plt.scatter(df_BigMountain['vertical_drop'], df_BigMountain['AdultWeekend'], c='blue', s=200)\n",
    "plt.xlabel('vertical_drop')\n",
    "plt.ylabel('AdultWeekend')\n",
    "plt.title('AdultWeekend by vertical_drop by cluster')\n",
    "plt.savefig('figures/fig1.png',bbox_inches='tight')"
   ]
  },
  {
   "cell_type": "code",
   "execution_count": 470,
   "metadata": {
    "colab": {},
    "colab_type": "code",
    "id": "530JtuJxGUZL"
   },
   "outputs": [
    {
     "data": {
      "image/png": "[encoded data removed]",
      "text/plain": [
       "<Figure size 432x288 with 1 Axes>"
      ]
     },
     "metadata": {
      "needs_background": "light"
     },
     "output_type": "display_data"
    }
   ],
   "source": [
    "plt.scatter(df['Snow Making_ac'], df['AdultWeekend'], c=df['Clusters'], s=50, cmap='viridis', label ='clusters')\n",
    "plt.xlabel('Snow Making_ac')\n",
    "plt.ylabel('AdultWeekend')\n",
    "plt.title('AdultWeekend by Snow Making_ac by cluster')\n",
    "plt.savefig('figures/fig2.png',bbox_inches='tight')"
   ]
  },
  {
   "cell_type": "code",
   "execution_count": 491,
   "metadata": {
    "colab": {},
    "colab_type": "code",
    "id": "kGvf4kTwGUZR"
   },
   "outputs": [
    {
     "data": {
      "image/png": "[encoded data removed]",
      "text/plain": [
       "<Figure size 432x288 with 1 Axes>"
      ]
     },
     "metadata": {
      "needs_background": "light"
     },
     "output_type": "display_data"
    }
   ],
   "source": [
    "plt.scatter(df['quad'], df['AdultWeekend'], c=df['Clusters'], s=50, cmap='viridis', label ='clusters')\n",
    "plt.scatter(df_BigMountain['quad'], df_BigMountain['AdultWeekend'], c='blue', s=200)\n",
    "plt.xlabel('quad')\n",
    "plt.ylabel('AdultWeekend')\n",
    "plt.title('AdultWeekend by quad by cluster')\n",
    "plt.savefig('figures/fig3.png',bbox_inches='tight')"
   ]
  },
  {
   "cell_type": "code",
   "execution_count": 492,
   "metadata": {
    "colab": {},
    "colab_type": "code",
    "id": "OYZB84hYGUZU"
   },
   "outputs": [
    {
     "data": {
      "image/png": "[encoded data removed]",
      "text/plain": [
       "<Figure size 432x288 with 1 Axes>"
      ]
     },
     "metadata": {
      "needs_background": "light"
     },
     "output_type": "display_data"
    }
   ],
   "source": [
    "plt.scatter(df['triple'], df['AdultWeekend'], c=df['Clusters'], s=50, cmap='viridis', label ='clusters')\n",
    "plt.scatter(df_BigMountain['triple'], df_BigMountain['AdultWeekend'], c='blue', s=200)\n",
    "plt.xlabel('triple')\n",
    "plt.ylabel('AdultWeekend')\n",
    "plt.title('AdultWeekend by triple by cluster')\n",
    "plt.savefig('figures/fig4.png',bbox_inches='tight')"
   ]
  },
  {
   "cell_type": "code",
   "execution_count": 493,
   "metadata": {},
   "outputs": [
    {
     "data": {
      "image/png": "[encoded data removed]",
      "text/plain": [
       "<Figure size 432x288 with 1 Axes>"
      ]
     },
     "metadata": {
      "needs_background": "light"
     },
     "output_type": "display_data"
    }
   ],
   "source": [
    "plt.scatter(df['fastQuads'], df['AdultWeekend'], c=df['Clusters'], s=50, cmap='viridis', label ='clusters')\n",
    "plt.scatter(df_BigMountain['fastQuads'], df_BigMountain['AdultWeekend'], c='blue', s=200)\n",
    "plt.xlabel('fastQuads')\n",
    "plt.ylabel('AdultWeekend')\n",
    "plt.title('AdultWeekend by fastQuads by cluster')\n",
    "plt.savefig('figures/fig5.png',bbox_inches='tight')"
   ]
  },
  {
   "cell_type": "code",
   "execution_count": 494,
   "metadata": {},
   "outputs": [
    {
     "data": {
      "image/png": "[encoded data removed]",
      "text/plain": [
       "<Figure size 432x288 with 1 Axes>"
      ]
     },
     "metadata": {
      "needs_background": "light"
     },
     "output_type": "display_data"
    }
   ],
   "source": [
    "plt.scatter(df['Runs'], df['AdultWeekend'], c=df['Clusters'], s=50, cmap='viridis', label ='clusters')\n",
    "plt.scatter(df_BigMountain['Runs'], df_BigMountain['AdultWeekend'], c='blue', s=200)\n",
    "plt.xlabel('Runs')\n",
    "plt.ylabel('AdultWeekend')\n",
    "plt.title('AdultWeekend by Runs by cluster')\n",
    "plt.savefig('figures/fig6.png',bbox_inches='tight')"
   ]
  },
  {
   "cell_type": "code",
   "execution_count": 495,
   "metadata": {},
   "outputs": [
    {
     "data": {
      "image/png": "[encoded data removed]",
      "text/plain": [
       "<Figure size 432x288 with 1 Axes>"
      ]
     },
     "metadata": {
      "needs_background": "light"
     },
     "output_type": "display_data"
    }
   ],
   "source": [
    "plt.scatter(df['total_chairs'], df['AdultWeekend'], c=df['Clusters'], s=50, cmap='viridis', label ='clusters')\n",
    "plt.scatter(df_BigMountain['triple'], df_BigMountain['AdultWeekend'], c='blue', s=200)\n",
    "plt.xlabel('total_chairs')\n",
    "plt.ylabel('AdultWeekend')\n",
    "plt.title('AdultWeekend by total_chairs by cluster')\n",
    "plt.savefig('figures/fig7.png',bbox_inches='tight')"
   ]
  },
  {
   "cell_type": "code",
   "execution_count": 496,
   "metadata": {},
   "outputs": [
    {
     "data": {
      "text/html": [
       "<div>\n",
       "<style scoped>\n",
       "    .dataframe tbody tr th:only-of-type {\n",
       "        vertical-align: middle;\n",
       "    }\n",
       "\n",
       "    .dataframe tbody tr th {\n",
       "        vertical-align: top;\n",
       "    }\n",
       "\n",
       "    .dataframe thead th {\n",
       "        text-align: right;\n",
       "    }\n",
       "</style>\n",
       "<table border=\"1\" class=\"dataframe\">\n",
       "  <thead>\n",
       "    <tr style=\"text-align: right;\">\n",
       "      <th></th>\n",
       "      <th>Name</th>\n",
       "      <th>state</th>\n",
       "      <th>summit_elev</th>\n",
       "      <th>vertical_drop</th>\n",
       "      <th>base_elev</th>\n",
       "      <th>trams</th>\n",
       "      <th>fastEight</th>\n",
       "      <th>fastSixes</th>\n",
       "      <th>fastQuads</th>\n",
       "      <th>quad</th>\n",
       "      <th>...</th>\n",
       "      <th>Snow Making_ac</th>\n",
       "      <th>daysOpenLastYear</th>\n",
       "      <th>yearsOpen</th>\n",
       "      <th>averageSnowfall</th>\n",
       "      <th>AdultWeekday</th>\n",
       "      <th>AdultWeekend</th>\n",
       "      <th>projectedDaysOpen</th>\n",
       "      <th>NightSkiing_ac</th>\n",
       "      <th>clusters</th>\n",
       "      <th>Clusters</th>\n",
       "    </tr>\n",
       "  </thead>\n",
       "  <tbody>\n",
       "    <tr>\n",
       "      <th>164</th>\n",
       "      <td>King Pine</td>\n",
       "      <td>New Hampshire</td>\n",
       "      <td>850</td>\n",
       "      <td>350</td>\n",
       "      <td>500</td>\n",
       "      <td>0</td>\n",
       "      <td>0.0</td>\n",
       "      <td>0</td>\n",
       "      <td>0</td>\n",
       "      <td>0</td>\n",
       "      <td>...</td>\n",
       "      <td>45.0</td>\n",
       "      <td>105.000000</td>\n",
       "      <td>57.0</td>\n",
       "      <td>120.0</td>\n",
       "      <td>42.000000</td>\n",
       "      <td>58.00000</td>\n",
       "      <td>107.000000</td>\n",
       "      <td>23.0</td>\n",
       "      <td>1</td>\n",
       "      <td>0</td>\n",
       "    </tr>\n",
       "    <tr>\n",
       "      <th>187</th>\n",
       "      <td>Catamount</td>\n",
       "      <td>New York</td>\n",
       "      <td>2000</td>\n",
       "      <td>1000</td>\n",
       "      <td>1000</td>\n",
       "      <td>0</td>\n",
       "      <td>0.0</td>\n",
       "      <td>0</td>\n",
       "      <td>0</td>\n",
       "      <td>1</td>\n",
       "      <td>...</td>\n",
       "      <td>130.0</td>\n",
       "      <td>100.000000</td>\n",
       "      <td>80.0</td>\n",
       "      <td>108.0</td>\n",
       "      <td>38.000000</td>\n",
       "      <td>69.00000</td>\n",
       "      <td>90.000000</td>\n",
       "      <td>55.0</td>\n",
       "      <td>1</td>\n",
       "      <td>0</td>\n",
       "    </tr>\n",
       "    <tr>\n",
       "      <th>188</th>\n",
       "      <td>Dry Hill Ski Area</td>\n",
       "      <td>New York</td>\n",
       "      <td>950</td>\n",
       "      <td>300</td>\n",
       "      <td>650</td>\n",
       "      <td>0</td>\n",
       "      <td>0.0</td>\n",
       "      <td>0</td>\n",
       "      <td>0</td>\n",
       "      <td>0</td>\n",
       "      <td>...</td>\n",
       "      <td>26.0</td>\n",
       "      <td>115.103943</td>\n",
       "      <td>55.0</td>\n",
       "      <td>125.0</td>\n",
       "      <td>57.916957</td>\n",
       "      <td>35.00000</td>\n",
       "      <td>120.053004</td>\n",
       "      <td>26.0</td>\n",
       "      <td>1</td>\n",
       "      <td>0</td>\n",
       "    </tr>\n",
       "    <tr>\n",
       "      <th>190</th>\n",
       "      <td>Greek Peak</td>\n",
       "      <td>New York</td>\n",
       "      <td>2100</td>\n",
       "      <td>952</td>\n",
       "      <td>1148</td>\n",
       "      <td>0</td>\n",
       "      <td>0.0</td>\n",
       "      <td>0</td>\n",
       "      <td>0</td>\n",
       "      <td>1</td>\n",
       "      <td>...</td>\n",
       "      <td>184.0</td>\n",
       "      <td>110.000000</td>\n",
       "      <td>62.0</td>\n",
       "      <td>122.0</td>\n",
       "      <td>49.000000</td>\n",
       "      <td>63.20000</td>\n",
       "      <td>113.000000</td>\n",
       "      <td>175.0</td>\n",
       "      <td>1</td>\n",
       "      <td>0</td>\n",
       "    </tr>\n",
       "    <tr>\n",
       "      <th>191</th>\n",
       "      <td>Holiday Mountain</td>\n",
       "      <td>New York</td>\n",
       "      <td>1550</td>\n",
       "      <td>400</td>\n",
       "      <td>1150</td>\n",
       "      <td>0</td>\n",
       "      <td>0.0</td>\n",
       "      <td>0</td>\n",
       "      <td>0</td>\n",
       "      <td>1</td>\n",
       "      <td>...</td>\n",
       "      <td>37.0</td>\n",
       "      <td>75.000000</td>\n",
       "      <td>60.0</td>\n",
       "      <td>50.0</td>\n",
       "      <td>27.000000</td>\n",
       "      <td>42.00000</td>\n",
       "      <td>85.000000</td>\n",
       "      <td>37.0</td>\n",
       "      <td>1</td>\n",
       "      <td>0</td>\n",
       "    </tr>\n",
       "    <tr>\n",
       "      <th>...</th>\n",
       "      <td>...</td>\n",
       "      <td>...</td>\n",
       "      <td>...</td>\n",
       "      <td>...</td>\n",
       "      <td>...</td>\n",
       "      <td>...</td>\n",
       "      <td>...</td>\n",
       "      <td>...</td>\n",
       "      <td>...</td>\n",
       "      <td>...</td>\n",
       "      <td>...</td>\n",
       "      <td>...</td>\n",
       "      <td>...</td>\n",
       "      <td>...</td>\n",
       "      <td>...</td>\n",
       "      <td>...</td>\n",
       "      <td>...</td>\n",
       "      <td>...</td>\n",
       "      <td>...</td>\n",
       "      <td>...</td>\n",
       "      <td>...</td>\n",
       "    </tr>\n",
       "    <tr>\n",
       "      <th>29</th>\n",
       "      <td>Breckenridge</td>\n",
       "      <td>Colorado</td>\n",
       "      <td>12998</td>\n",
       "      <td>3398</td>\n",
       "      <td>9600</td>\n",
       "      <td>1</td>\n",
       "      <td>0.0</td>\n",
       "      <td>5</td>\n",
       "      <td>6</td>\n",
       "      <td>0</td>\n",
       "      <td>...</td>\n",
       "      <td>600.0</td>\n",
       "      <td>182.000000</td>\n",
       "      <td>58.0</td>\n",
       "      <td>300.0</td>\n",
       "      <td>57.916957</td>\n",
       "      <td>64.16681</td>\n",
       "      <td>163.000000</td>\n",
       "      <td>0.0</td>\n",
       "      <td>0</td>\n",
       "      <td>2</td>\n",
       "    </tr>\n",
       "    <tr>\n",
       "      <th>277</th>\n",
       "      <td>Killington Resort</td>\n",
       "      <td>Vermont</td>\n",
       "      <td>4241</td>\n",
       "      <td>3050</td>\n",
       "      <td>1165</td>\n",
       "      <td>3</td>\n",
       "      <td>0.0</td>\n",
       "      <td>1</td>\n",
       "      <td>5</td>\n",
       "      <td>4</td>\n",
       "      <td>...</td>\n",
       "      <td>600.0</td>\n",
       "      <td>192.000000</td>\n",
       "      <td>61.0</td>\n",
       "      <td>250.0</td>\n",
       "      <td>119.000000</td>\n",
       "      <td>119.00000</td>\n",
       "      <td>120.053004</td>\n",
       "      <td>0.0</td>\n",
       "      <td>1</td>\n",
       "      <td>2</td>\n",
       "    </tr>\n",
       "    <tr>\n",
       "      <th>63</th>\n",
       "      <td>Sun Valley</td>\n",
       "      <td>Idaho</td>\n",
       "      <td>9150</td>\n",
       "      <td>3400</td>\n",
       "      <td>5750</td>\n",
       "      <td>1</td>\n",
       "      <td>0.0</td>\n",
       "      <td>0</td>\n",
       "      <td>9</td>\n",
       "      <td>0</td>\n",
       "      <td>...</td>\n",
       "      <td>645.0</td>\n",
       "      <td>149.000000</td>\n",
       "      <td>83.0</td>\n",
       "      <td>220.0</td>\n",
       "      <td>57.916957</td>\n",
       "      <td>64.16681</td>\n",
       "      <td>137.000000</td>\n",
       "      <td>0.0</td>\n",
       "      <td>2</td>\n",
       "      <td>2</td>\n",
       "    </tr>\n",
       "    <tr>\n",
       "      <th>30</th>\n",
       "      <td>Copper Mountain Resort</td>\n",
       "      <td>Colorado</td>\n",
       "      <td>12313</td>\n",
       "      <td>2738</td>\n",
       "      <td>9712</td>\n",
       "      <td>1</td>\n",
       "      <td>0.0</td>\n",
       "      <td>2</td>\n",
       "      <td>4</td>\n",
       "      <td>0</td>\n",
       "      <td>...</td>\n",
       "      <td>364.0</td>\n",
       "      <td>164.000000</td>\n",
       "      <td>47.0</td>\n",
       "      <td>300.0</td>\n",
       "      <td>158.000000</td>\n",
       "      <td>158.00000</td>\n",
       "      <td>164.000000</td>\n",
       "      <td>0.0</td>\n",
       "      <td>0</td>\n",
       "      <td>2</td>\n",
       "    </tr>\n",
       "    <tr>\n",
       "      <th>281</th>\n",
       "      <td>Okemo Mountain Resort</td>\n",
       "      <td>Vermont</td>\n",
       "      <td>3344</td>\n",
       "      <td>2200</td>\n",
       "      <td>1144</td>\n",
       "      <td>0</td>\n",
       "      <td>0.0</td>\n",
       "      <td>1</td>\n",
       "      <td>4</td>\n",
       "      <td>5</td>\n",
       "      <td>...</td>\n",
       "      <td>654.0</td>\n",
       "      <td>146.000000</td>\n",
       "      <td>63.0</td>\n",
       "      <td>200.0</td>\n",
       "      <td>57.916957</td>\n",
       "      <td>64.16681</td>\n",
       "      <td>152.000000</td>\n",
       "      <td>0.0</td>\n",
       "      <td>1</td>\n",
       "      <td>2</td>\n",
       "    </tr>\n",
       "  </tbody>\n",
       "</table>\n",
       "<p>330 rows × 28 columns</p>\n",
       "</div>"
      ],
      "text/plain": [
       "                       Name          state  summit_elev  vertical_drop  \\\n",
       "164               King Pine  New Hampshire          850            350   \n",
       "187               Catamount       New York         2000           1000   \n",
       "188       Dry Hill Ski Area       New York          950            300   \n",
       "190              Greek Peak       New York         2100            952   \n",
       "191        Holiday Mountain       New York         1550            400   \n",
       "..                      ...            ...          ...            ...   \n",
       "29             Breckenridge       Colorado        12998           3398   \n",
       "277       Killington Resort        Vermont         4241           3050   \n",
       "63               Sun Valley          Idaho         9150           3400   \n",
       "30   Copper Mountain Resort       Colorado        12313           2738   \n",
       "281   Okemo Mountain Resort        Vermont         3344           2200   \n",
       "\n",
       "     base_elev  trams  fastEight  fastSixes  fastQuads  quad  ...  \\\n",
       "164        500      0        0.0          0          0     0  ...   \n",
       "187       1000      0        0.0          0          0     1  ...   \n",
       "188        650      0        0.0          0          0     0  ...   \n",
       "190       1148      0        0.0          0          0     1  ...   \n",
       "191       1150      0        0.0          0          0     1  ...   \n",
       "..         ...    ...        ...        ...        ...   ...  ...   \n",
       "29        9600      1        0.0          5          6     0  ...   \n",
       "277       1165      3        0.0          1          5     4  ...   \n",
       "63        5750      1        0.0          0          9     0  ...   \n",
       "30        9712      1        0.0          2          4     0  ...   \n",
       "281       1144      0        0.0          1          4     5  ...   \n",
       "\n",
       "     Snow Making_ac  daysOpenLastYear  yearsOpen  averageSnowfall  \\\n",
       "164            45.0        105.000000       57.0            120.0   \n",
       "187           130.0        100.000000       80.0            108.0   \n",
       "188            26.0        115.103943       55.0            125.0   \n",
       "190           184.0        110.000000       62.0            122.0   \n",
       "191            37.0         75.000000       60.0             50.0   \n",
       "..              ...               ...        ...              ...   \n",
       "29            600.0        182.000000       58.0            300.0   \n",
       "277           600.0        192.000000       61.0            250.0   \n",
       "63            645.0        149.000000       83.0            220.0   \n",
       "30            364.0        164.000000       47.0            300.0   \n",
       "281           654.0        146.000000       63.0            200.0   \n",
       "\n",
       "     AdultWeekday  AdultWeekend  projectedDaysOpen  NightSkiing_ac  clusters  \\\n",
       "164     42.000000      58.00000         107.000000            23.0         1   \n",
       "187     38.000000      69.00000          90.000000            55.0         1   \n",
       "188     57.916957      35.00000         120.053004            26.0         1   \n",
       "190     49.000000      63.20000         113.000000           175.0         1   \n",
       "191     27.000000      42.00000          85.000000            37.0         1   \n",
       "..            ...           ...                ...             ...       ...   \n",
       "29      57.916957      64.16681         163.000000             0.0         0   \n",
       "277    119.000000     119.00000         120.053004             0.0         1   \n",
       "63      57.916957      64.16681         137.000000             0.0         2   \n",
       "30     158.000000     158.00000         164.000000             0.0         0   \n",
       "281     57.916957      64.16681         152.000000             0.0         1   \n",
       "\n",
       "     Clusters  \n",
       "164         0  \n",
       "187         0  \n",
       "188         0  \n",
       "190         0  \n",
       "191         0  \n",
       "..        ...  \n",
       "29          2  \n",
       "277         2  \n",
       "63          2  \n",
       "30          2  \n",
       "281         2  \n",
       "\n",
       "[330 rows x 28 columns]"
      ]
     },
     "metadata": {},
     "output_type": "display_data"
    }
   ],
   "source": [
    "display(df.sort_values(by='Clusters'))\n",
    "df.to_csv(\"ClusteredData.csv\", index=False)"
   ]
  },
  {
   "cell_type": "markdown",
   "metadata": {
    "colab_type": "text",
    "id": "giLKE2WMGUZh"
   },
   "source": [
    "## Finalize Code"
   ]
  },
  {
   "cell_type": "markdown",
   "metadata": {
    "colab_type": "text",
    "id": "pps_ASHoGUZi"
   },
   "source": [
    " Making sure our code is well organized and easy to follow is an important step. This is the time where you need to review the notebooks and Python scripts you've created and clean them up so they are easy to follow and succinct in nature. Addtionally, we will also save our final model as a callable object using Pickle for future use in a data pipeline. Pickle is a module that serializes (and de-serializes) Python objects so that they can become executable objects like functions. It's used extensively in production environments where machine learning models are deployed on an industrial scale!**<font color='teal'> Run the example code below to save out your callable model. Notice that we save it in the models folder we created in our previous guided capstone step.</font>** "
   ]
  },
  {
   "cell_type": "code",
   "execution_count": 497,
   "metadata": {
    "colab": {},
    "colab_type": "code",
    "id": "X_h0tkt_GUZj"
   },
   "outputs": [
    {
     "data": {
      "text/plain": [
       "['models/regression_model_adultweekend.joblib']"
      ]
     },
     "execution_count": 497,
     "metadata": {},
     "output_type": "execute_result"
    }
   ],
   "source": [
    "import pickle\n",
    "s = pickle.dumps(model)\n",
    "from joblib import dump, load\n",
    "dump(model, 'models/regression_model_adultweekend.joblib') "
   ]
  },
  {
   "cell_type": "markdown",
   "metadata": {
    "colab_type": "text",
    "id": "MTVrVlerGUZn"
   },
   "source": [
    "## Finalize Documentation"
   ]
  },
  {
   "cell_type": "markdown",
   "metadata": {
    "colab_type": "text",
    "id": "thEMyu-DGUZo"
   },
   "source": [
    "For model documentation, we want to save the model performance metrics as well as the features included in the final model. You could also save the model perfomance metrics and coefficients fo the other models you tried in case you want to refer to them later. **<font color='teal'> Create a dataframe containing the coefficients and the model performance metrics and save it out as a csv file, then upload it to your github repository.</font>** "
   ]
  },
  {
   "cell_type": "code",
   "execution_count": 498,
   "metadata": {
    "colab": {},
    "colab_type": "code",
    "id": "278tnHLlGUZp"
   },
   "outputs": [],
   "source": [
    "df = df_model.T\n",
    "performance_metrics = {'Final Model':['Model 3'],\n",
    "                       'Explained Variance': evs3,\n",
    "                       'Mean Absolute Error': mae3}\n",
    "dfp = pd.DataFrame(performance_metrics)\n",
    "df['Final Model'] = 'Model 3'\n",
    "df['Explained Variance'] = evs3\n",
    "df['Mean Absolute Error'] = mae3"
   ]
  },
  {
   "cell_type": "code",
   "execution_count": 499,
   "metadata": {
    "colab": {},
    "colab_type": "code",
    "id": "4CEOoBLFGUZr"
   },
   "outputs": [
    {
     "data": {
      "text/html": [
       "<div>\n",
       "<style scoped>\n",
       "    .dataframe tbody tr th:only-of-type {\n",
       "        vertical-align: middle;\n",
       "    }\n",
       "\n",
       "    .dataframe tbody tr th {\n",
       "        vertical-align: top;\n",
       "    }\n",
       "\n",
       "    .dataframe thead th {\n",
       "        text-align: right;\n",
       "    }\n",
       "</style>\n",
       "<table border=\"1\" class=\"dataframe\">\n",
       "  <thead>\n",
       "    <tr style=\"text-align: right;\">\n",
       "      <th></th>\n",
       "      <th>vertical_drop</th>\n",
       "      <th>Snow Making_ac</th>\n",
       "      <th>clusters</th>\n",
       "      <th>quad</th>\n",
       "      <th>triple</th>\n",
       "      <th>trams</th>\n",
       "      <th>fastQuads</th>\n",
       "      <th>surface</th>\n",
       "      <th>Runs</th>\n",
       "      <th>fastEight</th>\n",
       "      <th>...</th>\n",
       "      <th>TerrainParks</th>\n",
       "      <th>double</th>\n",
       "      <th>fastSixes</th>\n",
       "      <th>averageSnowfall</th>\n",
       "      <th>yearsOpen</th>\n",
       "      <th>LongestRun_mi</th>\n",
       "      <th>NightSkiing_ac</th>\n",
       "      <th>Final Model</th>\n",
       "      <th>Explained Variance</th>\n",
       "      <th>Mean Absolute Error</th>\n",
       "    </tr>\n",
       "  </thead>\n",
       "  <tbody>\n",
       "    <tr>\n",
       "      <th>Coefficient</th>\n",
       "      <td>9.183463</td>\n",
       "      <td>5.204206</td>\n",
       "      <td>4.365013</td>\n",
       "      <td>4.306101</td>\n",
       "      <td>3.551923</td>\n",
       "      <td>3.399336</td>\n",
       "      <td>2.786451</td>\n",
       "      <td>2.479518</td>\n",
       "      <td>2.404943</td>\n",
       "      <td>2.198408</td>\n",
       "      <td>...</td>\n",
       "      <td>1.307801</td>\n",
       "      <td>1.148744</td>\n",
       "      <td>1.004532</td>\n",
       "      <td>0.901322</td>\n",
       "      <td>0.857067</td>\n",
       "      <td>0.300765</td>\n",
       "      <td>0.067389</td>\n",
       "      <td>Model 3</td>\n",
       "      <td>0.372434</td>\n",
       "      <td>14.432468</td>\n",
       "    </tr>\n",
       "  </tbody>\n",
       "</table>\n",
       "<p>1 rows × 22 columns</p>\n",
       "</div>"
      ],
      "text/plain": [
       "             vertical_drop  Snow Making_ac  clusters      quad    triple  \\\n",
       "Coefficient       9.183463        5.204206  4.365013  4.306101  3.551923   \n",
       "\n",
       "                trams  fastQuads   surface      Runs  fastEight  ...  \\\n",
       "Coefficient  3.399336   2.786451  2.479518  2.404943   2.198408  ...   \n",
       "\n",
       "             TerrainParks    double  fastSixes  averageSnowfall  yearsOpen  \\\n",
       "Coefficient      1.307801  1.148744   1.004532         0.901322   0.857067   \n",
       "\n",
       "             LongestRun_mi  NightSkiing_ac  Final Model  Explained Variance  \\\n",
       "Coefficient       0.300765        0.067389      Model 3            0.372434   \n",
       "\n",
       "            Mean Absolute Error  \n",
       "Coefficient           14.432468  \n",
       "\n",
       "[1 rows x 22 columns]"
      ]
     },
     "execution_count": 499,
     "metadata": {},
     "output_type": "execute_result"
    }
   ],
   "source": [
    "df.to_csv(\"output.csv\", index=False)\n",
    "df"
   ]
  }
 ],
 "metadata": {
  "colab": {
   "collapsed_sections": [
    "RtEspslPZyGY",
    "s0DokMkAZyGc",
    "2iuitnKcZyHS",
    "iAWQxougZyHW",
    "ThMTimlBZyHZ",
    "QwZ-LkjXZyHt",
    "srtXEA3N4-Y9",
    "ChVreJupZyIA",
    "zDgSSsq1ZyID",
    "I3GYKWfi5Llg",
    "pmMvrhbI-viE",
    "ZXDPkW3UZyIX",
    "Dnc_vHQLZyId",
    "daJxuJ-dZyIg",
    "mAQ-oHiPZyIn",
    "hnGOsp3mZyIp"
   ],
   "name": "GuidedCapstoneStep6.ipynb",
   "provenance": [],
   "toc_visible": true
  },
  "kernelspec": {
   "display_name": "Python 3",
   "language": "python",
   "name": "python3"
  },
  "language_info": {
   "codemirror_mode": {
    "name": "ipython",
    "version": 3
   },
   "file_extension": ".py",
   "mimetype": "text/x-python",
   "name": "python",
   "nbconvert_exporter": "python",
   "pygments_lexer": "ipython3",
   "version": "3.7.6"
  },
  "toc": {
   "base_numbering": "0",
   "nav_menu": {},
   "number_sections": true,
   "sideBar": true,
   "skip_h1_title": false,
   "title_cell": "Table of Contents",
   "title_sidebar": "Contents",
   "toc_cell": true,
   "toc_position": {
    "height": "calc(100% - 180px)",
    "left": "10px",
    "top": "150px",
    "width": "288px"
   },
   "toc_section_display": true,
   "toc_window_display": true
  }
 },
 "nbformat": 4,
 "nbformat_minor": 1
}
