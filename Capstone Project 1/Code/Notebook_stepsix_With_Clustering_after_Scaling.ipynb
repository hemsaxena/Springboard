{
 "cells": [
  {
   "cell_type": "markdown",
   "metadata": {
    "colab_type": "text",
    "id": "cf5CmXQCZyF1"
   },
   "source": [
    "# Guided Capstone Step 6. Documentation"
   ]
  },
  {
   "cell_type": "markdown",
   "metadata": {
    "colab_type": "text",
    "id": "JbZXsVevfr9M"
   },
   "source": [
    "**The Data Science Method**  \n",
    "\n",
    "\n",
    "1.   Problem Identification \n",
    "\n",
    "2.   Data Wrangling \n",
    "  \n",
    "3.   Exploratory Data Analysis \n",
    " \n",
    "4.   Pre-processing and Training Data Development\n",
    "\n",
    "5.  Modeling\n",
    "\n",
    "6.   **Documentation**\n",
    "  * Review the Results\n",
    "  * Finalize Code \n",
    "  * Finalize Documentation\n",
    "  * Create a Project Report \n",
    "  * Create a Slide Deck for the Executive Audience"
   ]
  },
  {
   "cell_type": "markdown",
   "metadata": {
    "colab_type": "text",
    "id": "D-oGciwnGUYk"
   },
   "source": [
    "In this guided capstone we are going to revisit many of the actions we took in the previous guided capstone steps. This gives you the opportunity to practice the code you wrote to solve the questions in step 4 and 5. "
   ]
  },
  {
   "cell_type": "markdown",
   "metadata": {
    "colab_type": "text",
    "id": "K8xfkAqqZyF2"
   },
   "source": [
    "**<font color='teal'> Start by loading the necessary packages and printing out our current working directory just to confirm we are in the correct project directory. </font>**"
   ]
  },
  {
   "cell_type": "code",
   "execution_count": 665,
   "metadata": {
    "colab": {},
    "colab_type": "code",
    "id": "ry6WPL5eZyF3"
   },
   "outputs": [],
   "source": [
    "#load python packages\n",
    "import os\n",
    "import pandas as pd\n",
    "import datetime\n",
    "import seaborn as sns\n",
    "import matplotlib.pyplot as plt\n",
    "import numpy as np\n",
    "%matplotlib inline\n",
    "from sklearn import preprocessing\n",
    "from sklearn.model_selection import train_test_split\n",
    "from sklearn.metrics import mean_absolute_error, explained_variance_score\n",
    "from sklearn import linear_model\n",
    "from sklearn.metrics import explained_variance_score,mean_absolute_error\n",
    "\n",
    "os.getcwd()\n",
    "\n",
    "path=\"C:/MY FOLDER/SpringBoard/Case Studies/Blue Mountain Resort\"\n",
    "os.chdir(path)"
   ]
  },
  {
   "cell_type": "code",
   "execution_count": 666,
   "metadata": {},
   "outputs": [],
   "source": [
    "df = pd.read_csv(\"step3_output.csv\")"
   ]
  },
  {
   "cell_type": "markdown",
   "metadata": {
    "colab_type": "text",
    "id": "0HTP9cF2GUYs"
   },
   "source": [
    "## Fit Models with Training Dataset"
   ]
  },
  {
   "cell_type": "markdown",
   "metadata": {
    "colab_type": "text",
    "id": "A2FmSbtCGUYt"
   },
   "source": [
    "**<font color='teal'> Using sklearn fit the model you chose in Guided Capstone 5 on your training dataset. This includes: creating dummy features for states if you need them, scaling the data,and creating train and test splits before fitting the chosen model.Also, remember to generate a model performance score(MAE, or explained variance) based on the testing hold-out data set.</font>**"
   ]
  },
  {
   "cell_type": "markdown",
   "metadata": {
    "colab_type": "text",
    "id": "ReRSy1yFGUYu"
   },
   "source": [
    "#### Best Model "
   ]
  },
  {
   "cell_type": "code",
   "execution_count": 667,
   "metadata": {},
   "outputs": [],
   "source": [
    "#Remove response variables and other non-actionable and highly correlated features\n",
    "X = df.drop(['Name','AdultWeekend','AdultWeekday','daysOpenLastYear','projectedDaysOpen','state','summit_elev','base_elev'], axis=1)\n",
    "\n",
    "# Declare a response variable, called y, and assign it the AdultWeekend column of the df \n",
    "Y = df.loc[:,'AdultWeekend']"
   ]
  },
  {
   "cell_type": "code",
   "execution_count": 668,
   "metadata": {},
   "outputs": [],
   "source": [
    "#Preprocessing - Scaling\n",
    "scaler = preprocessing.StandardScaler().fit(X)\n",
    "X_scaled=scaler.transform(X) \n",
    "scaled_df = pd.DataFrame(X_scaled,columns=X.columns)\n",
    "y = Y.ravel()"
   ]
  },
  {
   "cell_type": "code",
   "execution_count": 669,
   "metadata": {
    "colab": {},
    "colab_type": "code",
    "id": "YRhPGbqPGUYv"
   },
   "outputs": [],
   "source": [
    "#Added clusters after scaling removing the clusters formed in Step3 from the step3_output.csv\n",
    "\n",
    "from sklearn.cluster import KMeans\n",
    "\n",
    "# This code will fit the k-means algorithm with our k parameter set to three, and plot the results. Cool, huh? \n",
    "kmeans3 = KMeans(n_clusters=3)\n",
    "y_kmeans3 = kmeans3.fit(scaled_df)\n",
    "identified_clusters = y_kmeans3.predict(scaled_df)\n",
    "df['Clusters'] = identified_clusters\n",
    "\n",
    "X_train, X_test, y_train, y_test = train_test_split(X_scaled , y, test_size=0.25, random_state=1)"
   ]
  },
  {
   "cell_type": "code",
   "execution_count": 670,
   "metadata": {},
   "outputs": [
    {
     "data": {
      "text/html": [
       "<div>\n",
       "<style scoped>\n",
       "    .dataframe tbody tr th:only-of-type {\n",
       "        vertical-align: middle;\n",
       "    }\n",
       "\n",
       "    .dataframe tbody tr th {\n",
       "        vertical-align: top;\n",
       "    }\n",
       "\n",
       "    .dataframe thead th {\n",
       "        text-align: right;\n",
       "    }\n",
       "</style>\n",
       "<table border=\"1\" class=\"dataframe\">\n",
       "  <thead>\n",
       "    <tr style=\"text-align: right;\">\n",
       "      <th></th>\n",
       "      <th>Coefficient</th>\n",
       "    </tr>\n",
       "  </thead>\n",
       "  <tbody>\n",
       "    <tr>\n",
       "      <th>vertical_drop</th>\n",
       "      <td>8.653031</td>\n",
       "    </tr>\n",
       "    <tr>\n",
       "      <th>Snow Making_ac</th>\n",
       "      <td>5.697337</td>\n",
       "    </tr>\n",
       "    <tr>\n",
       "      <th>quad</th>\n",
       "      <td>4.349958</td>\n",
       "    </tr>\n",
       "    <tr>\n",
       "      <th>triple</th>\n",
       "      <td>3.380091</td>\n",
       "    </tr>\n",
       "    <tr>\n",
       "      <th>trams</th>\n",
       "      <td>3.049388</td>\n",
       "    </tr>\n",
       "    <tr>\n",
       "      <th>fastQuads</th>\n",
       "      <td>2.957595</td>\n",
       "    </tr>\n",
       "    <tr>\n",
       "      <th>fastEight</th>\n",
       "      <td>2.359373</td>\n",
       "    </tr>\n",
       "    <tr>\n",
       "      <th>surface</th>\n",
       "      <td>2.201842</td>\n",
       "    </tr>\n",
       "    <tr>\n",
       "      <th>total_chairs</th>\n",
       "      <td>2.054977</td>\n",
       "    </tr>\n",
       "    <tr>\n",
       "      <th>TerrainParks</th>\n",
       "      <td>1.473792</td>\n",
       "    </tr>\n",
       "    <tr>\n",
       "      <th>fastSixes</th>\n",
       "      <td>1.310812</td>\n",
       "    </tr>\n",
       "    <tr>\n",
       "      <th>yearsOpen</th>\n",
       "      <td>0.842380</td>\n",
       "    </tr>\n",
       "    <tr>\n",
       "      <th>double</th>\n",
       "      <td>0.804442</td>\n",
       "    </tr>\n",
       "    <tr>\n",
       "      <th>SkiableTerrain_ac</th>\n",
       "      <td>0.770619</td>\n",
       "    </tr>\n",
       "    <tr>\n",
       "      <th>NightSkiing_ac</th>\n",
       "      <td>0.672734</td>\n",
       "    </tr>\n",
       "    <tr>\n",
       "      <th>Runs</th>\n",
       "      <td>0.250542</td>\n",
       "    </tr>\n",
       "    <tr>\n",
       "      <th>averageSnowfall</th>\n",
       "      <td>0.214626</td>\n",
       "    </tr>\n",
       "    <tr>\n",
       "      <th>LongestRun_mi</th>\n",
       "      <td>0.023205</td>\n",
       "    </tr>\n",
       "  </tbody>\n",
       "</table>\n",
       "</div>"
      ],
      "text/plain": [
       "                   Coefficient\n",
       "vertical_drop         8.653031\n",
       "Snow Making_ac        5.697337\n",
       "quad                  4.349958\n",
       "triple                3.380091\n",
       "trams                 3.049388\n",
       "fastQuads             2.957595\n",
       "fastEight             2.359373\n",
       "surface               2.201842\n",
       "total_chairs          2.054977\n",
       "TerrainParks          1.473792\n",
       "fastSixes             1.310812\n",
       "yearsOpen             0.842380\n",
       "double                0.804442\n",
       "SkiableTerrain_ac     0.770619\n",
       "NightSkiing_ac        0.672734\n",
       "Runs                  0.250542\n",
       "averageSnowfall       0.214626\n",
       "LongestRun_mi         0.023205"
      ]
     },
     "execution_count": 670,
     "metadata": {},
     "output_type": "execute_result"
    }
   ],
   "source": [
    "#Applying the model\n",
    "\n",
    "lm = linear_model.LinearRegression()\n",
    "model = lm.fit(X_train,y_train)\n",
    "y_pred = model.predict(X_test)\n",
    "evs3 = explained_variance_score(y_test, y_pred)\n",
    "mae3 = mean_absolute_error(y_test, y_pred)\n",
    "lm.intercept_\n",
    "df_model = pd.DataFrame(abs(lm.coef_), X.columns, columns=['Coefficient']).sort_values(by='Coefficient', ascending=False)\n",
    "df_model"
   ]
  },
  {
   "cell_type": "markdown",
   "metadata": {
    "colab_type": "text",
    "id": "GGizyeLZGUYz"
   },
   "source": [
    "## Review the results "
   ]
  },
  {
   "cell_type": "markdown",
   "metadata": {
    "colab_type": "text",
    "id": "4Lhu-qisGUY0"
   },
   "source": [
    "**<font color='teal'> Now, let's predict the Big Mountain Weekend price with our model in order to provide a recommendation to our managers on how to price the `AdultWeekend` lift ticket. First we need to find the row for Big Mountain resort in our data using string contains or string matching.</font>**"
   ]
  },
  {
   "cell_type": "code",
   "execution_count": 671,
   "metadata": {
    "colab": {},
    "colab_type": "code",
    "id": "YXnx_IuEGUY1",
    "scrolled": true
   },
   "outputs": [],
   "source": [
    "#Preparing Big Mountain row and actual ticket price\n",
    "\n",
    "X_BG = df.loc[df['Name'].str.contains('Big Mountain')].drop(['Name','AdultWeekend','AdultWeekday','daysOpenLastYear','projectedDaysOpen','state','summit_elev','base_elev','Clusters'], axis=1)\n",
    "\n",
    "Y_actual = df.loc[df['Name'].str.contains('Big Mountain') ,'AdultWeekend']"
   ]
  },
  {
   "cell_type": "markdown",
   "metadata": {
    "colab_type": "text",
    "id": "83-jO9hPGUY4"
   },
   "source": [
    "**<font color='teal'> Prepare the Big Mountain resort data row as you did in the model fitting stage.</font>**"
   ]
  },
  {
   "cell_type": "code",
   "execution_count": 672,
   "metadata": {},
   "outputs": [],
   "source": [
    "X_scaledBG = scaler.transform(X_BG)"
   ]
  },
  {
   "cell_type": "markdown",
   "metadata": {
    "colab_type": "text",
    "id": "2BCFqZYBGUY9"
   },
   "source": [
    "**<font color='teal'> Predict the Big Mountain resort `Adult Weekend` price and print it out.</font>** This is our expected price to present to management. Based on our model given the characteristics of the resort in comparison to other ski resorts and their unique characteristics."
   ]
  },
  {
   "cell_type": "code",
   "execution_count": 673,
   "metadata": {},
   "outputs": [
    {
     "name": "stdout",
     "output_type": "stream",
     "text": [
      "Big Mountain Predicted Price: $96.1059647948504\n"
     ]
    }
   ],
   "source": [
    "y_predBM = model.predict(X_scaledBG)\n",
    "print(\"Big Mountain Predicted Price: $\" + str(y_predBM[0]))"
   ]
  },
  {
   "cell_type": "markdown",
   "metadata": {
    "colab_type": "text",
    "id": "_5BvguMLGUZB"
   },
   "source": [
    "**<font color='teal'> Print the Big Mountain resort actual `Adult Weekend` price.</font>**"
   ]
  },
  {
   "cell_type": "code",
   "execution_count": 674,
   "metadata": {
    "colab": {},
    "colab_type": "code",
    "id": "WyxTHtL2GUZC"
   },
   "outputs": [
    {
     "name": "stdout",
     "output_type": "stream",
     "text": [
      "Big Mountain Actual Price: $81.0\n"
     ]
    }
   ],
   "source": [
    "print(\"Big Mountain Actual Price: $\" + str(float(Y_actual.values)))"
   ]
  },
  {
   "cell_type": "markdown",
   "metadata": {
    "colab_type": "text",
    "id": "O0Yli8MXGUZH"
   },
   "source": [
    "**<font color='teal'> As part of reviewing the results it is an important step to generate figures to visualize the data story. We can use the clusters we added to our data frame to create scatter plots for visualizing the Adult Weekend values compared to other characteristics. Run the example below to get you started and build two or three more figures to include in your data story telling.</font>**"
   ]
  },
  {
   "cell_type": "code",
   "execution_count": 675,
   "metadata": {
    "colab": {},
    "colab_type": "code",
    "id": "xWtr873fGUZI"
   },
   "outputs": [
    {
     "data": {
      "image/png": "[encoded data removed]",
      "text/plain": [
       "<Figure size 432x288 with 1 Axes>"
      ]
     },
     "metadata": {
      "needs_background": "light"
     },
     "output_type": "display_data"
    }
   ],
   "source": [
    "plt.scatter(df['vertical_drop'], df['AdultWeekend'], c=df['Clusters'], s=50, cmap='viridis', label ='clusters')\n",
    "plt.scatter(df_BigMountain['vertical_drop'], df_BigMountain['AdultWeekend'], c='blue', s=200)\n",
    "plt.xlabel('vertical_drop')\n",
    "plt.ylabel('AdultWeekend')\n",
    "plt.title('AdultWeekend by vertical_drop by cluster')\n",
    "plt.savefig('figures/fig1.png',bbox_inches='tight')"
   ]
  },
  {
   "cell_type": "code",
   "execution_count": 676,
   "metadata": {
    "colab": {},
    "colab_type": "code",
    "id": "530JtuJxGUZL"
   },
   "outputs": [
    {
     "data": {
      "image/png": "[encoded data removed]",
      "text/plain": [
       "<Figure size 432x288 with 1 Axes>"
      ]
     },
     "metadata": {
      "needs_background": "light"
     },
     "output_type": "display_data"
    }
   ],
   "source": [
    "plt.scatter(df['Snow Making_ac'], df['AdultWeekend'], c=df['Clusters'], s=50, cmap='viridis', label ='clusters')\n",
    "plt.scatter(df_BigMountain['Snow Making_ac'], df_BigMountain['AdultWeekend'], c='blue', s=200)\n",
    "plt.xlabel('Snow Making_ac')\n",
    "plt.ylabel('AdultWeekend')\n",
    "plt.title('AdultWeekend by Snow Making_ac by cluster')\n",
    "plt.savefig('figures/fig2.png',bbox_inches='tight')"
   ]
  },
  {
   "cell_type": "code",
   "execution_count": 677,
   "metadata": {
    "colab": {},
    "colab_type": "code",
    "id": "kGvf4kTwGUZR"
   },
   "outputs": [
    {
     "data": {
      "image/png": "[encoded data removed]",
      "text/plain": [
       "<Figure size 432x288 with 1 Axes>"
      ]
     },
     "metadata": {
      "needs_background": "light"
     },
     "output_type": "display_data"
    }
   ],
   "source": [
    "plt.scatter(df['quad'], df['AdultWeekend'], c=df['Clusters'], s=50, cmap='viridis', label ='clusters')\n",
    "plt.scatter(df_BigMountain['quad'], df_BigMountain['AdultWeekend'], c='blue', s=200)\n",
    "plt.xlabel('quad')\n",
    "plt.ylabel('AdultWeekend')\n",
    "plt.title('AdultWeekend by quad by cluster')\n",
    "plt.savefig('figures/fig3.png',bbox_inches='tight')"
   ]
  },
  {
   "cell_type": "code",
   "execution_count": 678,
   "metadata": {
    "colab": {},
    "colab_type": "code",
    "id": "OYZB84hYGUZU"
   },
   "outputs": [
    {
     "data": {
      "image/png": "[encoded data removed]",
      "text/plain": [
       "<Figure size 432x288 with 1 Axes>"
      ]
     },
     "metadata": {
      "needs_background": "light"
     },
     "output_type": "display_data"
    }
   ],
   "source": [
    "plt.scatter(df['triple'], df['AdultWeekend'], c=df['Clusters'], s=50, cmap='viridis', label ='clusters')\n",
    "plt.scatter(df_BigMountain['triple'], df_BigMountain['AdultWeekend'], c='blue', s=200)\n",
    "plt.xlabel('triple')\n",
    "plt.ylabel('AdultWeekend')\n",
    "plt.title('AdultWeekend by triple by cluster')\n",
    "plt.savefig('figures/fig4.png',bbox_inches='tight')"
   ]
  },
  {
   "cell_type": "code",
   "execution_count": 679,
   "metadata": {},
   "outputs": [
    {
     "data": {
      "image/png": "[encoded data removed]",
      "text/plain": [
       "<Figure size 432x288 with 1 Axes>"
      ]
     },
     "metadata": {
      "needs_background": "light"
     },
     "output_type": "display_data"
    }
   ],
   "source": [
    "plt.scatter(df['fastQuads'], df['AdultWeekend'], c=df['Clusters'], s=50, cmap='viridis', label ='clusters')\n",
    "plt.scatter(df_BigMountain['fastQuads'], df_BigMountain['AdultWeekend'], c='blue', s=200)\n",
    "plt.xlabel('fastQuads')\n",
    "plt.ylabel('AdultWeekend')\n",
    "plt.title('AdultWeekend by fastQuads by cluster')\n",
    "plt.savefig('figures/fig5.png',bbox_inches='tight')"
   ]
  },
  {
   "cell_type": "code",
   "execution_count": 680,
   "metadata": {},
   "outputs": [
    {
     "data": {
      "image/png": "[encoded data removed]",
      "text/plain": [
       "<Figure size 432x288 with 1 Axes>"
      ]
     },
     "metadata": {
      "needs_background": "light"
     },
     "output_type": "display_data"
    }
   ],
   "source": [
    "plt.scatter(df['Runs'], df['AdultWeekend'], c=df['Clusters'], s=50, cmap='viridis', label ='clusters')\n",
    "plt.scatter(df_BigMountain['Runs'], df_BigMountain['AdultWeekend'], c='blue', s=200)\n",
    "plt.xlabel('Runs')\n",
    "plt.ylabel('AdultWeekend')\n",
    "plt.title('AdultWeekend by Runs by cluster')\n",
    "plt.savefig('figures/fig6.png',bbox_inches='tight')"
   ]
  },
  {
   "cell_type": "code",
   "execution_count": 681,
   "metadata": {},
   "outputs": [
    {
     "data": {
      "image/png": "[encoded data removed]",
      "text/plain": [
       "<Figure size 432x288 with 1 Axes>"
      ]
     },
     "metadata": {
      "needs_background": "light"
     },
     "output_type": "display_data"
    }
   ],
   "source": [
    "plt.scatter(df['total_chairs'], df['AdultWeekend'], c=df['Clusters'], s=50, cmap='viridis', label ='clusters')\n",
    "plt.scatter(df_BigMountain['triple'], df_BigMountain['AdultWeekend'], c='blue', s=200)\n",
    "plt.xlabel('total_chairs')\n",
    "plt.ylabel('AdultWeekend')\n",
    "plt.title('AdultWeekend by total_chairs by cluster')\n",
    "plt.savefig('figures/fig7.png',bbox_inches='tight')"
   ]
  },
  {
   "cell_type": "code",
   "execution_count": 682,
   "metadata": {},
   "outputs": [
    {
     "data": {
      "text/html": [
       "<div>\n",
       "<style scoped>\n",
       "    .dataframe tbody tr th:only-of-type {\n",
       "        vertical-align: middle;\n",
       "    }\n",
       "\n",
       "    .dataframe tbody tr th {\n",
       "        vertical-align: top;\n",
       "    }\n",
       "\n",
       "    .dataframe thead th {\n",
       "        text-align: right;\n",
       "    }\n",
       "</style>\n",
       "<table border=\"1\" class=\"dataframe\">\n",
       "  <thead>\n",
       "    <tr style=\"text-align: right;\">\n",
       "      <th></th>\n",
       "      <th>Name</th>\n",
       "      <th>state</th>\n",
       "      <th>summit_elev</th>\n",
       "      <th>vertical_drop</th>\n",
       "      <th>base_elev</th>\n",
       "      <th>trams</th>\n",
       "      <th>fastEight</th>\n",
       "      <th>fastSixes</th>\n",
       "      <th>fastQuads</th>\n",
       "      <th>quad</th>\n",
       "      <th>...</th>\n",
       "      <th>SkiableTerrain_ac</th>\n",
       "      <th>Snow Making_ac</th>\n",
       "      <th>daysOpenLastYear</th>\n",
       "      <th>yearsOpen</th>\n",
       "      <th>averageSnowfall</th>\n",
       "      <th>AdultWeekday</th>\n",
       "      <th>AdultWeekend</th>\n",
       "      <th>projectedDaysOpen</th>\n",
       "      <th>NightSkiing_ac</th>\n",
       "      <th>Clusters</th>\n",
       "    </tr>\n",
       "  </thead>\n",
       "  <tbody>\n",
       "    <tr>\n",
       "      <th>164</th>\n",
       "      <td>King Pine</td>\n",
       "      <td>New Hampshire</td>\n",
       "      <td>850</td>\n",
       "      <td>350</td>\n",
       "      <td>500</td>\n",
       "      <td>0</td>\n",
       "      <td>0</td>\n",
       "      <td>0</td>\n",
       "      <td>0</td>\n",
       "      <td>0</td>\n",
       "      <td>...</td>\n",
       "      <td>48.0</td>\n",
       "      <td>45.0</td>\n",
       "      <td>105.000000</td>\n",
       "      <td>57</td>\n",
       "      <td>120.0</td>\n",
       "      <td>42.000000</td>\n",
       "      <td>58.00000</td>\n",
       "      <td>107.000000</td>\n",
       "      <td>23</td>\n",
       "      <td>0</td>\n",
       "    </tr>\n",
       "    <tr>\n",
       "      <th>191</th>\n",
       "      <td>Holiday Mountain</td>\n",
       "      <td>New York</td>\n",
       "      <td>1550</td>\n",
       "      <td>400</td>\n",
       "      <td>1150</td>\n",
       "      <td>0</td>\n",
       "      <td>0</td>\n",
       "      <td>0</td>\n",
       "      <td>0</td>\n",
       "      <td>1</td>\n",
       "      <td>...</td>\n",
       "      <td>37.0</td>\n",
       "      <td>37.0</td>\n",
       "      <td>75.000000</td>\n",
       "      <td>60</td>\n",
       "      <td>50.0</td>\n",
       "      <td>27.000000</td>\n",
       "      <td>42.00000</td>\n",
       "      <td>85.000000</td>\n",
       "      <td>37</td>\n",
       "      <td>0</td>\n",
       "    </tr>\n",
       "    <tr>\n",
       "      <th>193</th>\n",
       "      <td>Holimont Ski Area</td>\n",
       "      <td>New York</td>\n",
       "      <td>2260</td>\n",
       "      <td>700</td>\n",
       "      <td>1560</td>\n",
       "      <td>0</td>\n",
       "      <td>0</td>\n",
       "      <td>0</td>\n",
       "      <td>1</td>\n",
       "      <td>1</td>\n",
       "      <td>...</td>\n",
       "      <td>135.0</td>\n",
       "      <td>135.0</td>\n",
       "      <td>110.000000</td>\n",
       "      <td>57</td>\n",
       "      <td>180.0</td>\n",
       "      <td>62.000000</td>\n",
       "      <td>75.00000</td>\n",
       "      <td>119.000000</td>\n",
       "      <td>0</td>\n",
       "      <td>0</td>\n",
       "    </tr>\n",
       "    <tr>\n",
       "      <th>194</th>\n",
       "      <td>Hunt Hollow Ski Club</td>\n",
       "      <td>New York</td>\n",
       "      <td>2030</td>\n",
       "      <td>825</td>\n",
       "      <td>1000</td>\n",
       "      <td>0</td>\n",
       "      <td>0</td>\n",
       "      <td>0</td>\n",
       "      <td>0</td>\n",
       "      <td>0</td>\n",
       "      <td>...</td>\n",
       "      <td>400.0</td>\n",
       "      <td>400.0</td>\n",
       "      <td>115.103943</td>\n",
       "      <td>52</td>\n",
       "      <td>130.0</td>\n",
       "      <td>48.000000</td>\n",
       "      <td>58.00000</td>\n",
       "      <td>75.000000</td>\n",
       "      <td>400</td>\n",
       "      <td>0</td>\n",
       "    </tr>\n",
       "    <tr>\n",
       "      <th>197</th>\n",
       "      <td>Labrador Mt.</td>\n",
       "      <td>New York</td>\n",
       "      <td>1825</td>\n",
       "      <td>700</td>\n",
       "      <td>1125</td>\n",
       "      <td>0</td>\n",
       "      <td>0</td>\n",
       "      <td>0</td>\n",
       "      <td>0</td>\n",
       "      <td>0</td>\n",
       "      <td>...</td>\n",
       "      <td>250.0</td>\n",
       "      <td>237.0</td>\n",
       "      <td>115.103943</td>\n",
       "      <td>62</td>\n",
       "      <td>125.0</td>\n",
       "      <td>59.000000</td>\n",
       "      <td>59.00000</td>\n",
       "      <td>100.000000</td>\n",
       "      <td>180</td>\n",
       "      <td>0</td>\n",
       "    </tr>\n",
       "    <tr>\n",
       "      <th>...</th>\n",
       "      <td>...</td>\n",
       "      <td>...</td>\n",
       "      <td>...</td>\n",
       "      <td>...</td>\n",
       "      <td>...</td>\n",
       "      <td>...</td>\n",
       "      <td>...</td>\n",
       "      <td>...</td>\n",
       "      <td>...</td>\n",
       "      <td>...</td>\n",
       "      <td>...</td>\n",
       "      <td>...</td>\n",
       "      <td>...</td>\n",
       "      <td>...</td>\n",
       "      <td>...</td>\n",
       "      <td>...</td>\n",
       "      <td>...</td>\n",
       "      <td>...</td>\n",
       "      <td>...</td>\n",
       "      <td>...</td>\n",
       "      <td>...</td>\n",
       "    </tr>\n",
       "    <tr>\n",
       "      <th>29</th>\n",
       "      <td>Breckenridge</td>\n",
       "      <td>Colorado</td>\n",
       "      <td>12998</td>\n",
       "      <td>3398</td>\n",
       "      <td>9600</td>\n",
       "      <td>1</td>\n",
       "      <td>0</td>\n",
       "      <td>5</td>\n",
       "      <td>6</td>\n",
       "      <td>0</td>\n",
       "      <td>...</td>\n",
       "      <td>2908.0</td>\n",
       "      <td>600.0</td>\n",
       "      <td>182.000000</td>\n",
       "      <td>58</td>\n",
       "      <td>300.0</td>\n",
       "      <td>57.916957</td>\n",
       "      <td>64.16681</td>\n",
       "      <td>163.000000</td>\n",
       "      <td>0</td>\n",
       "      <td>2</td>\n",
       "    </tr>\n",
       "    <tr>\n",
       "      <th>28</th>\n",
       "      <td>Beaver Creek</td>\n",
       "      <td>Colorado</td>\n",
       "      <td>11440</td>\n",
       "      <td>3340</td>\n",
       "      <td>8100</td>\n",
       "      <td>2</td>\n",
       "      <td>0</td>\n",
       "      <td>0</td>\n",
       "      <td>11</td>\n",
       "      <td>0</td>\n",
       "      <td>...</td>\n",
       "      <td>1832.0</td>\n",
       "      <td>650.0</td>\n",
       "      <td>145.000000</td>\n",
       "      <td>39</td>\n",
       "      <td>323.0</td>\n",
       "      <td>57.916957</td>\n",
       "      <td>64.16681</td>\n",
       "      <td>138.000000</td>\n",
       "      <td>0</td>\n",
       "      <td>2</td>\n",
       "    </tr>\n",
       "    <tr>\n",
       "      <th>27</th>\n",
       "      <td>Aspen / Snowmass</td>\n",
       "      <td>Colorado</td>\n",
       "      <td>12510</td>\n",
       "      <td>4406</td>\n",
       "      <td>8104</td>\n",
       "      <td>3</td>\n",
       "      <td>0</td>\n",
       "      <td>1</td>\n",
       "      <td>15</td>\n",
       "      <td>4</td>\n",
       "      <td>...</td>\n",
       "      <td>5517.0</td>\n",
       "      <td>658.0</td>\n",
       "      <td>138.000000</td>\n",
       "      <td>72</td>\n",
       "      <td>300.0</td>\n",
       "      <td>179.000000</td>\n",
       "      <td>179.00000</td>\n",
       "      <td>138.000000</td>\n",
       "      <td>0</td>\n",
       "      <td>2</td>\n",
       "    </tr>\n",
       "    <tr>\n",
       "      <th>35</th>\n",
       "      <td>Keystone</td>\n",
       "      <td>Colorado</td>\n",
       "      <td>12408</td>\n",
       "      <td>3128</td>\n",
       "      <td>9280</td>\n",
       "      <td>2</td>\n",
       "      <td>0</td>\n",
       "      <td>2</td>\n",
       "      <td>4</td>\n",
       "      <td>1</td>\n",
       "      <td>...</td>\n",
       "      <td>3148.0</td>\n",
       "      <td>662.0</td>\n",
       "      <td>184.000000</td>\n",
       "      <td>49</td>\n",
       "      <td>235.0</td>\n",
       "      <td>57.916957</td>\n",
       "      <td>64.16681</td>\n",
       "      <td>120.053003</td>\n",
       "      <td>288</td>\n",
       "      <td>2</td>\n",
       "    </tr>\n",
       "    <tr>\n",
       "      <th>264</th>\n",
       "      <td>Deer Valley Resort</td>\n",
       "      <td>Utah</td>\n",
       "      <td>9570</td>\n",
       "      <td>3000</td>\n",
       "      <td>6570</td>\n",
       "      <td>1</td>\n",
       "      <td>0</td>\n",
       "      <td>0</td>\n",
       "      <td>13</td>\n",
       "      <td>0</td>\n",
       "      <td>...</td>\n",
       "      <td>2026.0</td>\n",
       "      <td>660.0</td>\n",
       "      <td>115.103943</td>\n",
       "      <td>39</td>\n",
       "      <td>300.0</td>\n",
       "      <td>169.000000</td>\n",
       "      <td>169.00000</td>\n",
       "      <td>120.053003</td>\n",
       "      <td>0</td>\n",
       "      <td>2</td>\n",
       "    </tr>\n",
       "  </tbody>\n",
       "</table>\n",
       "<p>330 rows × 27 columns</p>\n",
       "</div>"
      ],
      "text/plain": [
       "                     Name          state  summit_elev  vertical_drop  \\\n",
       "164             King Pine  New Hampshire          850            350   \n",
       "191      Holiday Mountain       New York         1550            400   \n",
       "193     Holimont Ski Area       New York         2260            700   \n",
       "194  Hunt Hollow Ski Club       New York         2030            825   \n",
       "197          Labrador Mt.       New York         1825            700   \n",
       "..                    ...            ...          ...            ...   \n",
       "29           Breckenridge       Colorado        12998           3398   \n",
       "28           Beaver Creek       Colorado        11440           3340   \n",
       "27       Aspen / Snowmass       Colorado        12510           4406   \n",
       "35               Keystone       Colorado        12408           3128   \n",
       "264    Deer Valley Resort           Utah         9570           3000   \n",
       "\n",
       "     base_elev  trams  fastEight  fastSixes  fastQuads  quad  ...  \\\n",
       "164        500      0          0          0          0     0  ...   \n",
       "191       1150      0          0          0          0     1  ...   \n",
       "193       1560      0          0          0          1     1  ...   \n",
       "194       1000      0          0          0          0     0  ...   \n",
       "197       1125      0          0          0          0     0  ...   \n",
       "..         ...    ...        ...        ...        ...   ...  ...   \n",
       "29        9600      1          0          5          6     0  ...   \n",
       "28        8100      2          0          0         11     0  ...   \n",
       "27        8104      3          0          1         15     4  ...   \n",
       "35        9280      2          0          2          4     1  ...   \n",
       "264       6570      1          0          0         13     0  ...   \n",
       "\n",
       "     SkiableTerrain_ac  Snow Making_ac  daysOpenLastYear  yearsOpen  \\\n",
       "164               48.0            45.0        105.000000         57   \n",
       "191               37.0            37.0         75.000000         60   \n",
       "193              135.0           135.0        110.000000         57   \n",
       "194              400.0           400.0        115.103943         52   \n",
       "197              250.0           237.0        115.103943         62   \n",
       "..                 ...             ...               ...        ...   \n",
       "29              2908.0           600.0        182.000000         58   \n",
       "28              1832.0           650.0        145.000000         39   \n",
       "27              5517.0           658.0        138.000000         72   \n",
       "35              3148.0           662.0        184.000000         49   \n",
       "264             2026.0           660.0        115.103943         39   \n",
       "\n",
       "     averageSnowfall  AdultWeekday  AdultWeekend  projectedDaysOpen  \\\n",
       "164            120.0     42.000000      58.00000         107.000000   \n",
       "191             50.0     27.000000      42.00000          85.000000   \n",
       "193            180.0     62.000000      75.00000         119.000000   \n",
       "194            130.0     48.000000      58.00000          75.000000   \n",
       "197            125.0     59.000000      59.00000         100.000000   \n",
       "..               ...           ...           ...                ...   \n",
       "29             300.0     57.916957      64.16681         163.000000   \n",
       "28             323.0     57.916957      64.16681         138.000000   \n",
       "27             300.0    179.000000     179.00000         138.000000   \n",
       "35             235.0     57.916957      64.16681         120.053003   \n",
       "264            300.0    169.000000     169.00000         120.053003   \n",
       "\n",
       "     NightSkiing_ac  Clusters  \n",
       "164              23         0  \n",
       "191              37         0  \n",
       "193               0         0  \n",
       "194             400         0  \n",
       "197             180         0  \n",
       "..              ...       ...  \n",
       "29                0         2  \n",
       "28                0         2  \n",
       "27                0         2  \n",
       "35              288         2  \n",
       "264               0         2  \n",
       "\n",
       "[330 rows x 27 columns]"
      ]
     },
     "metadata": {},
     "output_type": "display_data"
    }
   ],
   "source": [
    "display(df.sort_values(by='Clusters'))\n",
    "df.to_csv(\"ClusteredData.csv\", index=False)"
   ]
  },
  {
   "cell_type": "markdown",
   "metadata": {
    "colab_type": "text",
    "id": "giLKE2WMGUZh"
   },
   "source": [
    "## Finalize Code"
   ]
  },
  {
   "cell_type": "markdown",
   "metadata": {
    "colab_type": "text",
    "id": "pps_ASHoGUZi"
   },
   "source": [
    " Making sure our code is well organized and easy to follow is an important step. This is the time where you need to review the notebooks and Python scripts you've created and clean them up so they are easy to follow and succinct in nature. Addtionally, we will also save our final model as a callable object using Pickle for future use in a data pipeline. Pickle is a module that serializes (and de-serializes) Python objects so that they can become executable objects like functions. It's used extensively in production environments where machine learning models are deployed on an industrial scale!**<font color='teal'> Run the example code below to save out your callable model. Notice that we save it in the models folder we created in our previous guided capstone step.</font>** "
   ]
  },
  {
   "cell_type": "code",
   "execution_count": 683,
   "metadata": {
    "colab": {},
    "colab_type": "code",
    "id": "X_h0tkt_GUZj"
   },
   "outputs": [
    {
     "data": {
      "text/plain": [
       "['models/regression_model_adultweekend.joblib']"
      ]
     },
     "execution_count": 683,
     "metadata": {},
     "output_type": "execute_result"
    }
   ],
   "source": [
    "import pickle\n",
    "s = pickle.dumps(model)\n",
    "from joblib import dump, load\n",
    "dump(model, 'models/regression_model_adultweekend.joblib') "
   ]
  },
  {
   "cell_type": "markdown",
   "metadata": {
    "colab_type": "text",
    "id": "MTVrVlerGUZn"
   },
   "source": [
    "## Finalize Documentation"
   ]
  },
  {
   "cell_type": "markdown",
   "metadata": {
    "colab_type": "text",
    "id": "thEMyu-DGUZo"
   },
   "source": [
    "For model documentation, we want to save the model performance metrics as well as the features included in the final model. You could also save the model perfomance metrics and coefficients fo the other models you tried in case you want to refer to them later. **<font color='teal'> Create a dataframe containing the coefficients and the model performance metrics and save it out as a csv file, then upload it to your github repository.</font>** "
   ]
  },
  {
   "cell_type": "code",
   "execution_count": 684,
   "metadata": {
    "colab": {},
    "colab_type": "code",
    "id": "278tnHLlGUZp"
   },
   "outputs": [],
   "source": [
    "df = df_model.T\n",
    "performance_metrics = {'Final Model':['Model 3'],\n",
    "                       'Explained Variance': evs3,\n",
    "                       'Mean Absolute Error': mae3}\n",
    "dfp = pd.DataFrame(performance_metrics)\n",
    "df['Final Model'] = 'Model 3'\n",
    "df['Explained Variance'] = evs3\n",
    "df['Mean Absolute Error'] = mae3"
   ]
  },
  {
   "cell_type": "code",
   "execution_count": 685,
   "metadata": {
    "colab": {},
    "colab_type": "code",
    "id": "4CEOoBLFGUZr"
   },
   "outputs": [
    {
     "data": {
      "text/html": [
       "<div>\n",
       "<style scoped>\n",
       "    .dataframe tbody tr th:only-of-type {\n",
       "        vertical-align: middle;\n",
       "    }\n",
       "\n",
       "    .dataframe tbody tr th {\n",
       "        vertical-align: top;\n",
       "    }\n",
       "\n",
       "    .dataframe thead th {\n",
       "        text-align: right;\n",
       "    }\n",
       "</style>\n",
       "<table border=\"1\" class=\"dataframe\">\n",
       "  <thead>\n",
       "    <tr style=\"text-align: right;\">\n",
       "      <th></th>\n",
       "      <th>vertical_drop</th>\n",
       "      <th>Snow Making_ac</th>\n",
       "      <th>quad</th>\n",
       "      <th>triple</th>\n",
       "      <th>trams</th>\n",
       "      <th>fastQuads</th>\n",
       "      <th>fastEight</th>\n",
       "      <th>surface</th>\n",
       "      <th>total_chairs</th>\n",
       "      <th>TerrainParks</th>\n",
       "      <th>...</th>\n",
       "      <th>yearsOpen</th>\n",
       "      <th>double</th>\n",
       "      <th>SkiableTerrain_ac</th>\n",
       "      <th>NightSkiing_ac</th>\n",
       "      <th>Runs</th>\n",
       "      <th>averageSnowfall</th>\n",
       "      <th>LongestRun_mi</th>\n",
       "      <th>Final Model</th>\n",
       "      <th>Explained Variance</th>\n",
       "      <th>Mean Absolute Error</th>\n",
       "    </tr>\n",
       "  </thead>\n",
       "  <tbody>\n",
       "    <tr>\n",
       "      <th>Coefficient</th>\n",
       "      <td>8.653031</td>\n",
       "      <td>5.697337</td>\n",
       "      <td>4.349958</td>\n",
       "      <td>3.380091</td>\n",
       "      <td>3.049388</td>\n",
       "      <td>2.957595</td>\n",
       "      <td>2.359373</td>\n",
       "      <td>2.201842</td>\n",
       "      <td>2.054977</td>\n",
       "      <td>1.473792</td>\n",
       "      <td>...</td>\n",
       "      <td>0.84238</td>\n",
       "      <td>0.804442</td>\n",
       "      <td>0.770619</td>\n",
       "      <td>0.672734</td>\n",
       "      <td>0.250542</td>\n",
       "      <td>0.214626</td>\n",
       "      <td>0.023205</td>\n",
       "      <td>Model 3</td>\n",
       "      <td>0.38029</td>\n",
       "      <td>14.48308</td>\n",
       "    </tr>\n",
       "  </tbody>\n",
       "</table>\n",
       "<p>1 rows × 21 columns</p>\n",
       "</div>"
      ],
      "text/plain": [
       "             vertical_drop  Snow Making_ac      quad    triple     trams  \\\n",
       "Coefficient       8.653031        5.697337  4.349958  3.380091  3.049388   \n",
       "\n",
       "             fastQuads  fastEight   surface  total_chairs  TerrainParks  ...  \\\n",
       "Coefficient   2.957595   2.359373  2.201842      2.054977      1.473792  ...   \n",
       "\n",
       "             yearsOpen    double  SkiableTerrain_ac  NightSkiing_ac      Runs  \\\n",
       "Coefficient    0.84238  0.804442           0.770619        0.672734  0.250542   \n",
       "\n",
       "             averageSnowfall  LongestRun_mi  Final Model Explained Variance  \\\n",
       "Coefficient         0.214626       0.023205      Model 3            0.38029   \n",
       "\n",
       "             Mean Absolute Error  \n",
       "Coefficient             14.48308  \n",
       "\n",
       "[1 rows x 21 columns]"
      ]
     },
     "execution_count": 685,
     "metadata": {},
     "output_type": "execute_result"
    }
   ],
   "source": [
    "df.to_csv(\"output.csv\", index=False)\n",
    "df"
   ]
  }
 ],
 "metadata": {
  "colab": {
   "collapsed_sections": [
    "RtEspslPZyGY",
    "s0DokMkAZyGc",
    "2iuitnKcZyHS",
    "iAWQxougZyHW",
    "ThMTimlBZyHZ",
    "QwZ-LkjXZyHt",
    "srtXEA3N4-Y9",
    "ChVreJupZyIA",
    "zDgSSsq1ZyID",
    "I3GYKWfi5Llg",
    "pmMvrhbI-viE",
    "ZXDPkW3UZyIX",
    "Dnc_vHQLZyId",
    "daJxuJ-dZyIg",
    "mAQ-oHiPZyIn",
    "hnGOsp3mZyIp"
   ],
   "name": "GuidedCapstoneStep6.ipynb",
   "provenance": [],
   "toc_visible": true
  },
  "kernelspec": {
   "display_name": "Python 3",
   "language": "python",
   "name": "python3"
  },
  "language_info": {
   "codemirror_mode": {
    "name": "ipython",
    "version": 3
   },
   "file_extension": ".py",
   "mimetype": "text/x-python",
   "name": "python",
   "nbconvert_exporter": "python",
   "pygments_lexer": "ipython3",
   "version": "3.7.6"
  },
  "toc": {
   "base_numbering": "0",
   "nav_menu": {},
   "number_sections": true,
   "sideBar": true,
   "skip_h1_title": false,
   "title_cell": "Table of Contents",
   "title_sidebar": "Contents",
   "toc_cell": true,
   "toc_position": {
    "height": "calc(100% - 180px)",
    "left": "10px",
    "top": "150px",
    "width": "288px"
   },
   "toc_section_display": true,
   "toc_window_display": true
  }
 },
 "nbformat": 4,
 "nbformat_minor": 1
}
